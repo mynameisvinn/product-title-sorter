{
 "cells": [
  {
   "cell_type": "code",
   "execution_count": 1,
   "metadata": {
    "collapsed": true
   },
   "outputs": [],
   "source": [
    "import pandas as pd\n",
    "from sklearn.decomposition import PCA\n",
    "from sklearn.cluster import KMeans\n",
    "import numpy as np\n",
    "from sklearn.feature_extraction.text import CountVectorizer"
   ]
  },
  {
   "cell_type": "code",
   "execution_count": 2,
   "metadata": {
    "collapsed": false
   },
   "outputs": [
    {
     "data": {
      "text/html": [
       "<div>\n",
       "<table border=\"1\" class=\"dataframe\">\n",
       "  <thead>\n",
       "    <tr style=\"text-align: right;\">\n",
       "      <th></th>\n",
       "      <th>id</th>\n",
       "      <th>site</th>\n",
       "      <th>category</th>\n",
       "      <th>title</th>\n",
       "    </tr>\n",
       "  </thead>\n",
       "  <tbody>\n",
       "    <tr>\n",
       "      <th>0</th>\n",
       "      <td>301074677039</td>\n",
       "      <td>0</td>\n",
       "      <td>73839</td>\n",
       "      <td>Apple iPod nano 7th Generation Purple (16 GB) ...</td>\n",
       "    </tr>\n",
       "    <tr>\n",
       "      <th>1</th>\n",
       "      <td>191049351783</td>\n",
       "      <td>0</td>\n",
       "      <td>73839</td>\n",
       "      <td>APPLE IPOD TOUCH 16GB 4TH GEN WHITE MP3 PLAYER</td>\n",
       "    </tr>\n",
       "    <tr>\n",
       "      <th>2</th>\n",
       "      <td>251402664662</td>\n",
       "      <td>0</td>\n",
       "      <td>73839</td>\n",
       "      <td>Sport Sunglasses Headset Sun Glasses FOR IPHO...</td>\n",
       "    </tr>\n",
       "    <tr>\n",
       "      <th>3</th>\n",
       "      <td>370975588476</td>\n",
       "      <td>0</td>\n",
       "      <td>73839</td>\n",
       "      <td>DISNEY PARKS WHERE DREAMS COME TRUE MP3 PLAYER...</td>\n",
       "    </tr>\n",
       "    <tr>\n",
       "      <th>4</th>\n",
       "      <td>251398873497</td>\n",
       "      <td>0</td>\n",
       "      <td>73839</td>\n",
       "      <td>Mp3 Player Sunglasses 8gb Black w/ Bluetooth b...</td>\n",
       "    </tr>\n",
       "  </tbody>\n",
       "</table>\n",
       "</div>"
      ],
      "text/plain": [
       "             id  site category  \\\n",
       "0  301074677039     0    73839   \n",
       "1  191049351783     0    73839   \n",
       "2  251402664662     0    73839   \n",
       "3  370975588476     0    73839   \n",
       "4  251398873497     0    73839   \n",
       "\n",
       "                                               title  \n",
       "0  Apple iPod nano 7th Generation Purple (16 GB) ...  \n",
       "1     APPLE IPOD TOUCH 16GB 4TH GEN WHITE MP3 PLAYER  \n",
       "2   Sport Sunglasses Headset Sun Glasses FOR IPHO...  \n",
       "3  DISNEY PARKS WHERE DREAMS COME TRUE MP3 PLAYER...  \n",
       "4  Mp3 Player Sunglasses 8gb Black w/ Bluetooth b...  "
      ]
     },
     "execution_count": 2,
     "metadata": {},
     "output_type": "execute_result"
    }
   ],
   "source": [
    "reference = pd.read_table('data/mp3 players 73839.txt', header = None)\n",
    "reference.columns = ['id', 'site', 'category', 'title']\n",
    "reference.head()"
   ]
  },
  {
   "cell_type": "markdown",
   "metadata": {},
   "source": [
    "# approach 1: cluster by tdm"
   ]
  },
  {
   "cell_type": "markdown",
   "metadata": {},
   "source": [
    "### 1A) read feature vectors into memory and reduce"
   ]
  },
  {
   "cell_type": "code",
   "execution_count": 5,
   "metadata": {
    "collapsed": false
   },
   "outputs": [
    {
     "data": {
      "text/html": [
       "<div>\n",
       "<table border=\"1\" class=\"dataframe\">\n",
       "  <thead>\n",
       "    <tr style=\"text-align: right;\">\n",
       "      <th></th>\n",
       "      <th>Unnamed: 0</th>\n",
       "      <th>0</th>\n",
       "      <th>1</th>\n",
       "      <th>2</th>\n",
       "      <th>3</th>\n",
       "      <th>4</th>\n",
       "      <th>5</th>\n",
       "      <th>6</th>\n",
       "      <th>7</th>\n",
       "      <th>8</th>\n",
       "      <th>...</th>\n",
       "      <th>490.1</th>\n",
       "      <th>491.1</th>\n",
       "      <th>492.1</th>\n",
       "      <th>493.1</th>\n",
       "      <th>494.1</th>\n",
       "      <th>495.1</th>\n",
       "      <th>496.1</th>\n",
       "      <th>497.1</th>\n",
       "      <th>498.1</th>\n",
       "      <th>499.1</th>\n",
       "    </tr>\n",
       "  </thead>\n",
       "  <tbody>\n",
       "    <tr>\n",
       "      <th>0</th>\n",
       "      <td>0</td>\n",
       "      <td>-0.018615</td>\n",
       "      <td>0.044593</td>\n",
       "      <td>0.033754</td>\n",
       "      <td>0.017147</td>\n",
       "      <td>-0.013408</td>\n",
       "      <td>-0.008801</td>\n",
       "      <td>0.026520</td>\n",
       "      <td>-0.001875</td>\n",
       "      <td>0.003662</td>\n",
       "      <td>...</td>\n",
       "      <td>0.000354</td>\n",
       "      <td>0.000027</td>\n",
       "      <td>0.000150</td>\n",
       "      <td>-0.000089</td>\n",
       "      <td>-8.266202e-07</td>\n",
       "      <td>-0.000216</td>\n",
       "      <td>0.000094</td>\n",
       "      <td>0.000139</td>\n",
       "      <td>-0.000110</td>\n",
       "      <td>-0.000042</td>\n",
       "    </tr>\n",
       "    <tr>\n",
       "      <th>1</th>\n",
       "      <td>1</td>\n",
       "      <td>-0.020404</td>\n",
       "      <td>0.044956</td>\n",
       "      <td>0.034604</td>\n",
       "      <td>0.017118</td>\n",
       "      <td>-0.011580</td>\n",
       "      <td>-0.010824</td>\n",
       "      <td>0.028206</td>\n",
       "      <td>-0.007174</td>\n",
       "      <td>0.002715</td>\n",
       "      <td>...</td>\n",
       "      <td>0.001100</td>\n",
       "      <td>0.000579</td>\n",
       "      <td>-0.000039</td>\n",
       "      <td>0.000113</td>\n",
       "      <td>-9.858511e-04</td>\n",
       "      <td>0.000142</td>\n",
       "      <td>-0.002124</td>\n",
       "      <td>0.000107</td>\n",
       "      <td>0.000526</td>\n",
       "      <td>-0.001291</td>\n",
       "    </tr>\n",
       "    <tr>\n",
       "      <th>2</th>\n",
       "      <td>2</td>\n",
       "      <td>0.067482</td>\n",
       "      <td>0.002221</td>\n",
       "      <td>-0.008682</td>\n",
       "      <td>-0.064167</td>\n",
       "      <td>-0.082925</td>\n",
       "      <td>0.046530</td>\n",
       "      <td>0.019452</td>\n",
       "      <td>-0.015765</td>\n",
       "      <td>-0.020444</td>\n",
       "      <td>...</td>\n",
       "      <td>-0.001167</td>\n",
       "      <td>-0.000090</td>\n",
       "      <td>-0.000500</td>\n",
       "      <td>0.000304</td>\n",
       "      <td>2.823215e-06</td>\n",
       "      <td>0.000739</td>\n",
       "      <td>-0.000327</td>\n",
       "      <td>-0.000484</td>\n",
       "      <td>0.000385</td>\n",
       "      <td>0.000147</td>\n",
       "    </tr>\n",
       "    <tr>\n",
       "      <th>3</th>\n",
       "      <td>3</td>\n",
       "      <td>-0.022178</td>\n",
       "      <td>0.046221</td>\n",
       "      <td>0.040738</td>\n",
       "      <td>0.021026</td>\n",
       "      <td>-0.003364</td>\n",
       "      <td>-0.019198</td>\n",
       "      <td>0.025294</td>\n",
       "      <td>0.004982</td>\n",
       "      <td>0.015839</td>\n",
       "      <td>...</td>\n",
       "      <td>-0.051811</td>\n",
       "      <td>-0.035410</td>\n",
       "      <td>-0.016383</td>\n",
       "      <td>-0.022950</td>\n",
       "      <td>-2.903728e-02</td>\n",
       "      <td>0.008659</td>\n",
       "      <td>0.004858</td>\n",
       "      <td>-0.002010</td>\n",
       "      <td>-0.020509</td>\n",
       "      <td>-0.027004</td>\n",
       "    </tr>\n",
       "    <tr>\n",
       "      <th>4</th>\n",
       "      <td>4</td>\n",
       "      <td>-0.019379</td>\n",
       "      <td>0.047132</td>\n",
       "      <td>0.032588</td>\n",
       "      <td>0.018126</td>\n",
       "      <td>-0.014113</td>\n",
       "      <td>-0.011335</td>\n",
       "      <td>0.029900</td>\n",
       "      <td>-0.003417</td>\n",
       "      <td>0.003236</td>\n",
       "      <td>...</td>\n",
       "      <td>0.010197</td>\n",
       "      <td>-0.004490</td>\n",
       "      <td>-0.000406</td>\n",
       "      <td>0.006426</td>\n",
       "      <td>1.011754e-02</td>\n",
       "      <td>0.007087</td>\n",
       "      <td>-0.005874</td>\n",
       "      <td>-0.007453</td>\n",
       "      <td>-0.009313</td>\n",
       "      <td>-0.016810</td>\n",
       "    </tr>\n",
       "  </tbody>\n",
       "</table>\n",
       "<p>5 rows × 1001 columns</p>\n",
       "</div>"
      ],
      "text/plain": [
       "   Unnamed: 0         0         1         2         3         4         5  \\\n",
       "0           0 -0.018615  0.044593  0.033754  0.017147 -0.013408 -0.008801   \n",
       "1           1 -0.020404  0.044956  0.034604  0.017118 -0.011580 -0.010824   \n",
       "2           2  0.067482  0.002221 -0.008682 -0.064167 -0.082925  0.046530   \n",
       "3           3 -0.022178  0.046221  0.040738  0.021026 -0.003364 -0.019198   \n",
       "4           4 -0.019379  0.047132  0.032588  0.018126 -0.014113 -0.011335   \n",
       "\n",
       "          6         7         8    ...        490.1     491.1     492.1  \\\n",
       "0  0.026520 -0.001875  0.003662    ...     0.000354  0.000027  0.000150   \n",
       "1  0.028206 -0.007174  0.002715    ...     0.001100  0.000579 -0.000039   \n",
       "2  0.019452 -0.015765 -0.020444    ...    -0.001167 -0.000090 -0.000500   \n",
       "3  0.025294  0.004982  0.015839    ...    -0.051811 -0.035410 -0.016383   \n",
       "4  0.029900 -0.003417  0.003236    ...     0.010197 -0.004490 -0.000406   \n",
       "\n",
       "      493.1         494.1     495.1     496.1     497.1     498.1     499.1  \n",
       "0 -0.000089 -8.266202e-07 -0.000216  0.000094  0.000139 -0.000110 -0.000042  \n",
       "1  0.000113 -9.858511e-04  0.000142 -0.002124  0.000107  0.000526 -0.001291  \n",
       "2  0.000304  2.823215e-06  0.000739 -0.000327 -0.000484  0.000385  0.000147  \n",
       "3 -0.022950 -2.903728e-02  0.008659  0.004858 -0.002010 -0.020509 -0.027004  \n",
       "4  0.006426  1.011754e-02  0.007087 -0.005874 -0.007453 -0.009313 -0.016810  \n",
       "\n",
       "[5 rows x 1001 columns]"
      ]
     },
     "execution_count": 5,
     "metadata": {},
     "output_type": "execute_result"
    }
   ],
   "source": [
    "tdm_data = pd.read_csv('features/cases/cases_tdm.csv')\n",
    "tdm_data.head()"
   ]
  },
  {
   "cell_type": "code",
   "execution_count": 6,
   "metadata": {
    "collapsed": false
   },
   "outputs": [
    {
     "data": {
      "text/html": [
       "<div>\n",
       "<table border=\"1\" class=\"dataframe\">\n",
       "  <thead>\n",
       "    <tr style=\"text-align: right;\">\n",
       "      <th></th>\n",
       "      <th>1</th>\n",
       "      <th>2</th>\n",
       "      <th>3</th>\n",
       "      <th>4</th>\n",
       "      <th>5</th>\n",
       "      <th>6</th>\n",
       "      <th>7</th>\n",
       "      <th>8</th>\n",
       "      <th>9</th>\n",
       "      <th>10</th>\n",
       "      <th>...</th>\n",
       "      <th>490.1</th>\n",
       "      <th>491.1</th>\n",
       "      <th>492.1</th>\n",
       "      <th>493.1</th>\n",
       "      <th>494.1</th>\n",
       "      <th>495.1</th>\n",
       "      <th>496.1</th>\n",
       "      <th>497.1</th>\n",
       "      <th>498.1</th>\n",
       "      <th>499.1</th>\n",
       "    </tr>\n",
       "  </thead>\n",
       "  <tbody>\n",
       "    <tr>\n",
       "      <th>0</th>\n",
       "      <td>0.044593</td>\n",
       "      <td>0.033754</td>\n",
       "      <td>0.017147</td>\n",
       "      <td>-0.013408</td>\n",
       "      <td>-0.008801</td>\n",
       "      <td>0.026520</td>\n",
       "      <td>-0.001875</td>\n",
       "      <td>0.003662</td>\n",
       "      <td>0.001454</td>\n",
       "      <td>0.021749</td>\n",
       "      <td>...</td>\n",
       "      <td>0.000354</td>\n",
       "      <td>0.000027</td>\n",
       "      <td>0.000150</td>\n",
       "      <td>-0.000089</td>\n",
       "      <td>-8.266202e-07</td>\n",
       "      <td>-0.000216</td>\n",
       "      <td>0.000094</td>\n",
       "      <td>0.000139</td>\n",
       "      <td>-0.000110</td>\n",
       "      <td>-0.000042</td>\n",
       "    </tr>\n",
       "    <tr>\n",
       "      <th>1</th>\n",
       "      <td>0.044956</td>\n",
       "      <td>0.034604</td>\n",
       "      <td>0.017118</td>\n",
       "      <td>-0.011580</td>\n",
       "      <td>-0.010824</td>\n",
       "      <td>0.028206</td>\n",
       "      <td>-0.007174</td>\n",
       "      <td>0.002715</td>\n",
       "      <td>-0.000914</td>\n",
       "      <td>0.025136</td>\n",
       "      <td>...</td>\n",
       "      <td>0.001100</td>\n",
       "      <td>0.000579</td>\n",
       "      <td>-0.000039</td>\n",
       "      <td>0.000113</td>\n",
       "      <td>-9.858511e-04</td>\n",
       "      <td>0.000142</td>\n",
       "      <td>-0.002124</td>\n",
       "      <td>0.000107</td>\n",
       "      <td>0.000526</td>\n",
       "      <td>-0.001291</td>\n",
       "    </tr>\n",
       "    <tr>\n",
       "      <th>2</th>\n",
       "      <td>0.002221</td>\n",
       "      <td>-0.008682</td>\n",
       "      <td>-0.064167</td>\n",
       "      <td>-0.082925</td>\n",
       "      <td>0.046530</td>\n",
       "      <td>0.019452</td>\n",
       "      <td>-0.015765</td>\n",
       "      <td>-0.020444</td>\n",
       "      <td>-0.061294</td>\n",
       "      <td>-0.030251</td>\n",
       "      <td>...</td>\n",
       "      <td>-0.001167</td>\n",
       "      <td>-0.000090</td>\n",
       "      <td>-0.000500</td>\n",
       "      <td>0.000304</td>\n",
       "      <td>2.823215e-06</td>\n",
       "      <td>0.000739</td>\n",
       "      <td>-0.000327</td>\n",
       "      <td>-0.000484</td>\n",
       "      <td>0.000385</td>\n",
       "      <td>0.000147</td>\n",
       "    </tr>\n",
       "    <tr>\n",
       "      <th>3</th>\n",
       "      <td>0.046221</td>\n",
       "      <td>0.040738</td>\n",
       "      <td>0.021026</td>\n",
       "      <td>-0.003364</td>\n",
       "      <td>-0.019198</td>\n",
       "      <td>0.025294</td>\n",
       "      <td>0.004982</td>\n",
       "      <td>0.015839</td>\n",
       "      <td>0.012907</td>\n",
       "      <td>0.029395</td>\n",
       "      <td>...</td>\n",
       "      <td>-0.051811</td>\n",
       "      <td>-0.035410</td>\n",
       "      <td>-0.016383</td>\n",
       "      <td>-0.022950</td>\n",
       "      <td>-2.903728e-02</td>\n",
       "      <td>0.008659</td>\n",
       "      <td>0.004858</td>\n",
       "      <td>-0.002010</td>\n",
       "      <td>-0.020509</td>\n",
       "      <td>-0.027004</td>\n",
       "    </tr>\n",
       "    <tr>\n",
       "      <th>4</th>\n",
       "      <td>0.047132</td>\n",
       "      <td>0.032588</td>\n",
       "      <td>0.018126</td>\n",
       "      <td>-0.014113</td>\n",
       "      <td>-0.011335</td>\n",
       "      <td>0.029900</td>\n",
       "      <td>-0.003417</td>\n",
       "      <td>0.003236</td>\n",
       "      <td>0.001189</td>\n",
       "      <td>0.021974</td>\n",
       "      <td>...</td>\n",
       "      <td>0.010197</td>\n",
       "      <td>-0.004490</td>\n",
       "      <td>-0.000406</td>\n",
       "      <td>0.006426</td>\n",
       "      <td>1.011754e-02</td>\n",
       "      <td>0.007087</td>\n",
       "      <td>-0.005874</td>\n",
       "      <td>-0.007453</td>\n",
       "      <td>-0.009313</td>\n",
       "      <td>-0.016810</td>\n",
       "    </tr>\n",
       "  </tbody>\n",
       "</table>\n",
       "<p>5 rows × 999 columns</p>\n",
       "</div>"
      ],
      "text/plain": [
       "          1         2         3         4         5         6         7  \\\n",
       "0  0.044593  0.033754  0.017147 -0.013408 -0.008801  0.026520 -0.001875   \n",
       "1  0.044956  0.034604  0.017118 -0.011580 -0.010824  0.028206 -0.007174   \n",
       "2  0.002221 -0.008682 -0.064167 -0.082925  0.046530  0.019452 -0.015765   \n",
       "3  0.046221  0.040738  0.021026 -0.003364 -0.019198  0.025294  0.004982   \n",
       "4  0.047132  0.032588  0.018126 -0.014113 -0.011335  0.029900 -0.003417   \n",
       "\n",
       "          8         9        10    ...        490.1     491.1     492.1  \\\n",
       "0  0.003662  0.001454  0.021749    ...     0.000354  0.000027  0.000150   \n",
       "1  0.002715 -0.000914  0.025136    ...     0.001100  0.000579 -0.000039   \n",
       "2 -0.020444 -0.061294 -0.030251    ...    -0.001167 -0.000090 -0.000500   \n",
       "3  0.015839  0.012907  0.029395    ...    -0.051811 -0.035410 -0.016383   \n",
       "4  0.003236  0.001189  0.021974    ...     0.010197 -0.004490 -0.000406   \n",
       "\n",
       "      493.1         494.1     495.1     496.1     497.1     498.1     499.1  \n",
       "0 -0.000089 -8.266202e-07 -0.000216  0.000094  0.000139 -0.000110 -0.000042  \n",
       "1  0.000113 -9.858511e-04  0.000142 -0.002124  0.000107  0.000526 -0.001291  \n",
       "2  0.000304  2.823215e-06  0.000739 -0.000327 -0.000484  0.000385  0.000147  \n",
       "3 -0.022950 -2.903728e-02  0.008659  0.004858 -0.002010 -0.020509 -0.027004  \n",
       "4  0.006426  1.011754e-02  0.007087 -0.005874 -0.007453 -0.009313 -0.016810  \n",
       "\n",
       "[5 rows x 999 columns]"
      ]
     },
     "execution_count": 6,
     "metadata": {},
     "output_type": "execute_result"
    }
   ],
   "source": [
    "tdm_data_2 = tdm_data.drop(['Unnamed: 0', '0'], axis = 1)\n",
    "tdm_data_2.head()"
   ]
  },
  {
   "cell_type": "code",
   "execution_count": 7,
   "metadata": {
    "collapsed": true
   },
   "outputs": [],
   "source": [
    "tdm_reducer = PCA(n_components = 500)"
   ]
  },
  {
   "cell_type": "code",
   "execution_count": 8,
   "metadata": {
    "collapsed": false
   },
   "outputs": [],
   "source": [
    "tdm_data_3 = tdm_reducer.fit_transform(tdm_data_2)"
   ]
  },
  {
   "cell_type": "markdown",
   "metadata": {},
   "source": [
    "### 1B) cluster via kmeans"
   ]
  },
  {
   "cell_type": "code",
   "execution_count": 9,
   "metadata": {
    "collapsed": false
   },
   "outputs": [
    {
     "data": {
      "text/plain": [
       "KMeans(copy_x=True, init='k-means++', max_iter=100, n_clusters=10, n_init=1,\n",
       "    n_jobs=1, precompute_distances='auto', random_state=None, tol=0.0001,\n",
       "    verbose=0)"
      ]
     },
     "execution_count": 9,
     "metadata": {},
     "output_type": "execute_result"
    }
   ],
   "source": [
    "model = KMeans(n_clusters=10, init='k-means++', max_iter=100, n_init=1)\n",
    "model.fit(tdm_data_3)"
   ]
  },
  {
   "cell_type": "code",
   "execution_count": 10,
   "metadata": {
    "collapsed": false
   },
   "outputs": [],
   "source": [
    "categories = model.predict(tdm_data_3)"
   ]
  },
  {
   "cell_type": "markdown",
   "metadata": {},
   "source": [
    "### 1C) examine clusters"
   ]
  },
  {
   "cell_type": "code",
   "execution_count": 24,
   "metadata": {
    "collapsed": false
   },
   "outputs": [],
   "source": [
    "cluster_label = 5\n",
    "\n",
    "cluster = np.where(categories == cluster_label)"
   ]
  },
  {
   "cell_type": "code",
   "execution_count": 25,
   "metadata": {
    "collapsed": false
   },
   "outputs": [
    {
     "name": "stdout",
     "output_type": "stream",
     "text": [
      "58      Bug's Life Hard Case Cover For Samsung Galaxy ...\n",
      "81                                          Iphone 4 Case\n",
      "159     2D Hard Cover Case for HTC Wildfire S G13 U.S....\n",
      "197     For iPhone 5 5G 6th Combo Rugged Rubber Matte ...\n",
      "208     HARRY POTTER Salazar Slytherin school case for...\n",
      "267     Dual Color Skin Leather Case With Stand For LG...\n",
      "288     HEAD CASE RED LONDON TELEPHONE BOX KIOSK BOOTH...\n",
      "307     Wallet Flip Leather Case Cover For Apple iphon...\n",
      "317     4 PIECE S-LINE TPU GEL SKIN CASE COVERS FOR IP...\n",
      "383     ORANGE ROCKET HYBRID HARD PHONE CASE COVER W/ ...\n",
      "417     HEAD CASE DESIGNS BEST OF PLACES SERIES 3 HARD...\n",
      "468              Skinit Wolf Dragon Moon Skin for LG 500G\n",
      "503             For Samsung A197 Case Cover LF Lime Green\n",
      "516     For Samsung Galaxy Rush M830 Carbon Fiber Prot...\n",
      "616     HEAD CASE NINJAS PROTECTIVE SNAP-ON HARD BACK ...\n",
      "634     Blk/Blue HYBRID TPU Huawei Ascend M860 Facepla...\n",
      "700     Noble Clear Transparent Back Thin Hard Case Co...\n",
      "706     iPhone 5 Cleveland Browns team sport plastic s...\n",
      "754     flower wallet Leather card slot stand case iPh...\n",
      "819     PINK SIDE FLIP PU LEATHER CASE+MICRO CABLE CHA...\n",
      "825     Samsung Galaxy Ace 2 TPU Rubber Gel Case Cover...\n",
      "866     HEAD CASE PRINTED DENIM SNAP-ON BACK CASE FOR ...\n",
      "879     ZTE MAJESTY Z796C BLACK SKIN PINK HARD KICKSTA...\n",
      "888     Yellow / Black Hard Rubber Cup Y Shape Case Sk...\n",
      "946     FANTASY ART - FIREY HORSES APPLE IPHONE 5 5G H...\n",
      "964     Nokia Lumia 620 Protective Hybrid TPU Case Cov...\n",
      "987     IMAK Cross PU + PC Leather Wallet Cover Case S...\n",
      "997     Hybrid Mesh White Black Accessory Cover For Ve...\n",
      "1049    (1040) BLUE Waterproof Shockproof Case Cover F...\n",
      "1062    AT&T ALCATEL 871A NEW HARD RUBBER SKIN SNAP-ON...\n",
      "                              ...                        \n",
      "8626    NEW Color TPU Bumper Frame Rubber Case Cover w...\n",
      "8667    The King And Queens New Hard Back Case Cover f...\n",
      "8669    Gold color  IPHONE 4 4S 4G \"LUXURY DIAMOND BLI...\n",
      "8723    Black Rubber Hard Case+Clear LCD+USB Cable+Bla...\n",
      "8740    0.5mm Ultra Thin Back Cover Case For Apple iPh...\n",
      "8744    Gummy Hard Case Cover for Apple iPod Touch 4 G...\n",
      "8773    SMOKE HARD TPU REAR MATTE GEL SKIN CASE COVER ...\n",
      "8785    Skinit Spatter Skin for Samsung Vibrant Galaxy...\n",
      "8855    BLING RHINESTONE CRYSTAL HARD BACK CASE COVER ...\n",
      "8875    HEAD CASE FANDANGO MODERN BAROQUE DESIGN HARD ...\n",
      "8905    Black Jewel Diamante Bling Hard Cover Protecto...\n",
      "8916    Accessory for T-Mobile HTC Amaze 4G Pink Soft ...\n",
      "9018    Flower Design Leather Wallet Case With Stand F...\n",
      "9043                   Nintendo Game Boy iPhone 4/4s Case\n",
      "9071    Rocketfish HTC Inspire 4G Soft Gel Case - PURP...\n",
      "9090    Skinit Bright Plaid Skin for Samsung Fascinate...\n",
      "9182    Purple iPhone 4 4S Crystal Bling Rhinestone Ha...\n",
      "9256    CAMO GRASS Rubberized Hard Phone Cover Samsung...\n",
      "9274    Camo Tree Hard Snap on Rubberized Phone Case C...\n",
      "9442    Giving Tree Illustration Protective 2 Layer Bl...\n",
      "9464    HEAD CASE WOOD AND GEOMETRY PROTECTIVE BACK CA...\n",
      "9556    For Samsung Galaxy S III S3 3/i9300 3in1 Silic...\n",
      "9591    New Amazing Smooth Metal Skin Hard Cover Case ...\n",
      "9604    New Love Mei Rugged Waterproof Shockproof Prot...\n",
      "9623    HOT PINK LEOPARD HARD PLASTIC SNAP ON DIAMOND ...\n",
      "9666    1 PC Red PU Leather Hard Back Skin Case Cover ...\n",
      "9711    Color Design Case Cover Accessory+Aux+Charger ...\n",
      "9746    Sky Pink mustach Motorola Droid 3 XT862 Verizo...\n",
      "9813    Skin Decal Sticker for Nokia X2 X2-01 Cell Pho...\n",
      "9835    tattoo design beauty princess fairly sexy for ...\n",
      "Name: title, dtype: object\n"
     ]
    }
   ],
   "source": [
    "for c in cluster:\n",
    "    print reference['title'][c]"
   ]
  },
  {
   "cell_type": "markdown",
   "metadata": {},
   "source": [
    "# approach 2: cluster by neighbors vector"
   ]
  },
  {
   "cell_type": "code",
   "execution_count": 3,
   "metadata": {
    "collapsed": false
   },
   "outputs": [
    {
     "data": {
      "text/html": [
       "<div>\n",
       "<table border=\"1\" class=\"dataframe\">\n",
       "  <thead>\n",
       "    <tr style=\"text-align: right;\">\n",
       "      <th></th>\n",
       "      <th>nearest_neighbors</th>\n",
       "    </tr>\n",
       "  </thead>\n",
       "  <tbody>\n",
       "    <tr>\n",
       "      <th>0</th>\n",
       "      <td>0 709 4392 7350 7917 7977 8383 6506 3802 1298 ...</td>\n",
       "    </tr>\n",
       "    <tr>\n",
       "      <th>1</th>\n",
       "      <td>1 525 924 1153 1225 1310 1415 1533 1624 1683 2146</td>\n",
       "    </tr>\n",
       "    <tr>\n",
       "      <th>2</th>\n",
       "      <td>2 2777 5042 6626 6482 9953 2076 4684 6069 5005...</td>\n",
       "    </tr>\n",
       "    <tr>\n",
       "      <th>3</th>\n",
       "      <td>3 8359 5185 9334 6459 9825 5073 8113 1137 7712...</td>\n",
       "    </tr>\n",
       "    <tr>\n",
       "      <th>4</th>\n",
       "      <td>4 349 2859 7883 5816 15 6017 8212 2889 8006 2118</td>\n",
       "    </tr>\n",
       "  </tbody>\n",
       "</table>\n",
       "</div>"
      ],
      "text/plain": [
       "                                   nearest_neighbors\n",
       "0  0 709 4392 7350 7917 7977 8383 6506 3802 1298 ...\n",
       "1  1 525 924 1153 1225 1310 1415 1533 1624 1683 2146\n",
       "2  2 2777 5042 6626 6482 9953 2076 4684 6069 5005...\n",
       "3  3 8359 5185 9334 6459 9825 5073 8113 1137 7712...\n",
       "4   4 349 2859 7883 5816 15 6017 8212 2889 8006 2118"
      ]
     },
     "execution_count": 3,
     "metadata": {},
     "output_type": "execute_result"
    }
   ],
   "source": [
    "neighbor_data_1 = pd.read_csv('features/mp3/mp3_neighbors.csv')\n",
    "neighbor_data_2 = neighbor_data_1.drop(['Unnamed: 0'], axis = 1)\n",
    "neighbor_data_2.columns = ['nearest_neighbors']\n",
    "neighbor_data_2.head()"
   ]
  },
  {
   "cell_type": "code",
   "execution_count": 4,
   "metadata": {
    "collapsed": false
   },
   "outputs": [
    {
     "data": {
      "text/html": [
       "<div>\n",
       "<table border=\"1\" class=\"dataframe\">\n",
       "  <thead>\n",
       "    <tr style=\"text-align: right;\">\n",
       "      <th></th>\n",
       "      <th>nearest_neighbors</th>\n",
       "      <th>clean</th>\n",
       "    </tr>\n",
       "  </thead>\n",
       "  <tbody>\n",
       "    <tr>\n",
       "      <th>0</th>\n",
       "      <td>0 709 4392 7350 7917 7977 8383 6506 3802 1298 ...</td>\n",
       "      <td>709 4392 7350 7917 7977 8383 6506 3802 1298 1694</td>\n",
       "    </tr>\n",
       "    <tr>\n",
       "      <th>1</th>\n",
       "      <td>1 525 924 1153 1225 1310 1415 1533 1624 1683 2146</td>\n",
       "      <td>525 924 1153 1225 1310 1415 1533 1624 1683 2146</td>\n",
       "    </tr>\n",
       "    <tr>\n",
       "      <th>2</th>\n",
       "      <td>2 2777 5042 6626 6482 9953 2076 4684 6069 5005...</td>\n",
       "      <td>2777 5042 6626 6482 9953 2076 4684 6069 5005 ...</td>\n",
       "    </tr>\n",
       "    <tr>\n",
       "      <th>3</th>\n",
       "      <td>3 8359 5185 9334 6459 9825 5073 8113 1137 7712...</td>\n",
       "      <td>8359 5185 9334 6459 9825 5073 8113 1137 7712 ...</td>\n",
       "    </tr>\n",
       "    <tr>\n",
       "      <th>4</th>\n",
       "      <td>4 349 2859 7883 5816 15 6017 8212 2889 8006 2118</td>\n",
       "      <td>349 2859 7883 5816 15 6017 8212 2889 8006 2118</td>\n",
       "    </tr>\n",
       "  </tbody>\n",
       "</table>\n",
       "</div>"
      ],
      "text/plain": [
       "                                   nearest_neighbors  \\\n",
       "0  0 709 4392 7350 7917 7977 8383 6506 3802 1298 ...   \n",
       "1  1 525 924 1153 1225 1310 1415 1533 1624 1683 2146   \n",
       "2  2 2777 5042 6626 6482 9953 2076 4684 6069 5005...   \n",
       "3  3 8359 5185 9334 6459 9825 5073 8113 1137 7712...   \n",
       "4   4 349 2859 7883 5816 15 6017 8212 2889 8006 2118   \n",
       "\n",
       "                                               clean  \n",
       "0   709 4392 7350 7917 7977 8383 6506 3802 1298 1694  \n",
       "1    525 924 1153 1225 1310 1415 1533 1624 1683 2146  \n",
       "2   2777 5042 6626 6482 9953 2076 4684 6069 5005 ...  \n",
       "3   8359 5185 9334 6459 9825 5073 8113 1137 7712 ...  \n",
       "4     349 2859 7883 5816 15 6017 8212 2889 8006 2118  "
      ]
     },
     "execution_count": 4,
     "metadata": {},
     "output_type": "execute_result"
    }
   ],
   "source": [
    "# remove primary key...\n",
    "\n",
    "neighbor_data_2['clean'] = map(lambda x: x[1:], neighbor_data_2['nearest_neighbors'])\n",
    "neighbor_data_2.head()"
   ]
  },
  {
   "cell_type": "markdown",
   "metadata": {},
   "source": [
    "### 2B) create matrix of neighbors"
   ]
  },
  {
   "cell_type": "code",
   "execution_count": 5,
   "metadata": {
    "collapsed": true
   },
   "outputs": [],
   "source": [
    "neighbors_vec = CountVectorizer(max_features=1000)"
   ]
  },
  {
   "cell_type": "code",
   "execution_count": 6,
   "metadata": {
    "collapsed": false
   },
   "outputs": [
    {
     "data": {
      "text/plain": [
       "(10001, 1000)"
      ]
     },
     "execution_count": 6,
     "metadata": {},
     "output_type": "execute_result"
    }
   ],
   "source": [
    "neighbors_tdm_sparse = neighbors_vec.fit_transform(neighbor_data_2['clean'])\n",
    "neighbors_tdm_dense = neighbors_tdm_sparse.toarray()\n",
    "neighbors_tdm_dense_df = pd.DataFrame(neighbors_tdm_dense)\n",
    "neighbors_tdm_dense_df.shape"
   ]
  },
  {
   "cell_type": "code",
   "execution_count": 7,
   "metadata": {
    "collapsed": false
   },
   "outputs": [
    {
     "data": {
      "text/plain": [
       "KMeans(copy_x=True, init='k-means++', max_iter=100, n_clusters=10, n_init=1,\n",
       "    n_jobs=1, precompute_distances='auto', random_state=None, tol=0.0001,\n",
       "    verbose=0)"
      ]
     },
     "execution_count": 7,
     "metadata": {},
     "output_type": "execute_result"
    }
   ],
   "source": [
    "model = KMeans(n_clusters=10, init='k-means++', max_iter=100, n_init=1)\n",
    "model.fit(neighbors_tdm_dense_df)"
   ]
  },
  {
   "cell_type": "code",
   "execution_count": 8,
   "metadata": {
    "collapsed": false
   },
   "outputs": [
    {
     "name": "stderr",
     "output_type": "stream",
     "text": [
      "/Users/vincenttang/anaconda/lib/python2.7/site-packages/sklearn/cluster/k_means_.py:862: RuntimeWarning: Got data type int64, converted to float to avoid overflows\n",
      "  X = self._check_test_data(X)\n"
     ]
    }
   ],
   "source": [
    "categories = model.predict(neighbors_tdm_dense_df)"
   ]
  },
  {
   "cell_type": "code",
   "execution_count": 11,
   "metadata": {
    "collapsed": false
   },
   "outputs": [
    {
     "name": "stdout",
     "output_type": "stream",
     "text": [
      "0       Apple iPod nano 7th Generation Purple (16 GB) ...\n",
      "2        Sport Sunglasses Headset Sun Glasses FOR IPHO...\n",
      "3       DISNEY PARKS WHERE DREAMS COME TRUE MP3 PLAYER...\n",
      "4       Mp3 Player Sunglasses 8gb Black w/ Bluetooth b...\n",
      "6       Apple iPod Touch 32GB 5th Generation Pink - Ne...\n",
      "7           Apple iPod touch 4th Generation Black (32 GB)\n",
      "8       ELEMENT ELECTRONICS USB 1GB + MP3 & WMA Player...\n",
      "9       Mini One Eye Monster Mummy Music MP3 Player TF...\n",
      "10      Apple iPod touch 4th Generation 32GB White Bro...\n",
      "11          Apple iPod touch 4th Generation White (32 GB)\n",
      "12      KDQ2 Mini LCD Screen Metal Clip MP3 Music Play...\n",
      "13      Apple iPod nano 5th Generation Pink 16 GB MC07...\n",
      "14      Brand new ARCHOS Gmini402 20G mp4 Camcorder an...\n",
      "15                Bluetooth + MP3 Player Sunglasses - 4GB\n",
      "16         APPLE IPOD TOUCH 16GB 4TH GEN BLACK MP3 PLAYER\n",
      "17      DISNEY MIX STICK HIGH SCHOOL MUSICAL ORANGE MI...\n",
      "18      Apple iPod Touch 3rd Generation Black (32 GB) ...\n",
      "19                I-Pod Touch 32GB 3rd Generation Bundled\n",
      "20      Sony Walkman NWZ-B173F B170 Series 4GB USB MP3...\n",
      "21      Apple iPod touch 3rd Generation (32 GB) Item #...\n",
      "22      Golden LCD Screen Mini Clip Metal Music FM Rad...\n",
      "23      Fashoin Mini Clip Metal USB MP3 Music Media Pl...\n",
      "24      New Mini Beetle Shape MP3 Player For 2GB/4GB/8...\n",
      "25      COWON iAUDIO9 PLUS BLACK,8GB 2\" LCD MP3 Digita...\n",
      "26        Apple iPod shuffle 4th Generation Silver (2 GB)\n",
      "27      Apple iPod Touch 4th Generation Black 16 GB DE...\n",
      "28      Samsung Nexus 50 YP-X5Z (1 GB) Digital Media P...\n",
      "29      8GB Apple iPod Nano 5th-Gen Green/A1320/Functi...\n",
      "30      Ear Loop Sport MP3 Music Player Wireless Heads...\n",
      "31      Working Apple iPod Classic 3rd Generation (15 ...\n",
      "                              ...                        \n",
      "9967    Apple ipod touch 32gb a1367 \"ipod is disabled\"...\n",
      "9968    Waterproof Swimmer USB MP3 Player OLED Display...\n",
      "9969         IPOD TOUCH PARTS--FREE SHIPPING--SHIPS TODAY\n",
      "9970    2GB Silver Mini MP3 Player W/ LCD Screen Clip ...\n",
      "9971    Coby 8GB 2.8\" Touchscreen, Speaker & Camera MP...\n",
      "9972    Apple iPod touch 4th Generation  (8 GB) logic ...\n",
      "9973    4GB Apple iPod Nano 2nd-Gen Red Special Editio...\n",
      "9974    iPod Touch 2nd Generation (water damage-for pa...\n",
      "9975        Archos 18c vision (4 GB) Digital Media Player\n",
      "9977     EUC- 2GB Mini Blue MP4 Player with Stereo Spe...\n",
      "9978    New Red 8GB iRulu MP3 Player FM Radio Voice Re...\n",
      "9979                            SANSA ZIP-CLIP + 8 BUNDLE\n",
      "9980    Apple iPod shuffle 4th Generation Pink (2 GB) ...\n",
      "9981    iRiver iHP-120 (20 GB) Multi-Codec MP3  Player...\n",
      "9983    New Silver  Portable Micro SD/TF Music Player ...\n",
      "9984    Apple iPod Touch 2nd Generation (8 GB) Refurbi...\n",
      "9985    Sony Walkman NWZ-W273 BLACK 4GB Waterproof Wea...\n",
      "9986    SanDisk Sansa Clip Plus 4GB Flash MP3 Player S...\n",
      "9987     New!  Sony 2013 New Walkman F Series NW-F886 ...\n",
      "9988          Apple iPod nano 3rd Generation 4GB - Silver\n",
      "9989    Pink GPX Digital Auidio Player MP3 Player MW38...\n",
      "9990    Apple iPod touch 5th Generation Black & Slate ...\n",
      "9991    Apple iPod touch BLACK & SILVER 5th Generation...\n",
      "9992    Apple iPod touch 5th Generation Blue (32 GB) (...\n",
      "9994           Apple iPod touch 4th Generation Black 16GB\n",
      "9995    Apple iPod touch 4th Generation white purple (...\n",
      "9996    Samsung Galaxy S WiFi 3.6 Black (8 GB) Digital...\n",
      "9997                  Apple Ipod Touch 4th Gen 64gb Black\n",
      "9998                                 PANASONIC MP3 PLAYER\n",
      "9999    Apple iPod nano 7th Generation Pink (16 GB) (L...\n",
      "Name: title, dtype: object\n"
     ]
    }
   ],
   "source": [
    "cluster_label = 4\n",
    "\n",
    "cluster = np.where(categories == cluster_label)\n",
    "\n",
    "for c in cluster:\n",
    "    print reference['title'][c]"
   ]
  },
  {
   "cell_type": "code",
   "execution_count": null,
   "metadata": {
    "collapsed": true
   },
   "outputs": [],
   "source": []
  }
 ],
 "metadata": {
  "kernelspec": {
   "display_name": "Python 2",
   "language": "python",
   "name": "python2"
  },
  "language_info": {
   "codemirror_mode": {
    "name": "ipython",
    "version": 2
   },
   "file_extension": ".py",
   "mimetype": "text/x-python",
   "name": "python",
   "nbconvert_exporter": "python",
   "pygments_lexer": "ipython2",
   "version": "2.7.10"
  }
 },
 "nbformat": 4,
 "nbformat_minor": 0
}
