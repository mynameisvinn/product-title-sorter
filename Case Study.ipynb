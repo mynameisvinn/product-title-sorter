{
 "cells": [
  {
   "cell_type": "markdown",
   "metadata": {},
   "source": [
    "# Problem Statement\n",
    "\n",
    "for each item belonging to one of the four categories (cases, laptop, mp3, and cellphones), do the following: (1) find its nearest neighbors; (2) assign it to the relevant cluster.\n",
    "\n",
    "the following notebook shows a multi-step pipeline that (1) preprocesses (eg extracts named entity); (2) generates term document matrices; (3) organizes feature vectors via approximate nearest neighbor (ANN); and (4) clusters via k-means."
   ]
  },
  {
   "cell_type": "markdown",
   "metadata": {},
   "source": [
    "# step 0: dataset"
   ]
  },
  {
   "cell_type": "code",
   "execution_count": 147,
   "metadata": {
    "collapsed": true
   },
   "outputs": [],
   "source": [
    "from sklearn.externals import joblib\n",
    "import pandas as pd\n",
    "from sklearn.feature_extraction.text import TfidfVectorizer \n",
    "from sklearn.decomposition import PCA\n",
    "from spacy.en import English\n",
    "from sklearn.feature_extraction.text import CountVectorizer\n",
    "from annoy import AnnoyIndex\n",
    "import numpy as np\n",
    "from sklearn.cluster import KMeans\n",
    "from sklearn.metrics.pairwise import cosine_similarity"
   ]
  },
  {
   "cell_type": "code",
   "execution_count": 148,
   "metadata": {
    "collapsed": false
   },
   "outputs": [
    {
     "data": {
      "text/html": [
       "<div>\n",
       "<table border=\"1\" class=\"dataframe\">\n",
       "  <thead>\n",
       "    <tr style=\"text-align: right;\">\n",
       "      <th></th>\n",
       "      <th>id</th>\n",
       "      <th>site</th>\n",
       "      <th>category</th>\n",
       "      <th>title</th>\n",
       "    </tr>\n",
       "  </thead>\n",
       "  <tbody>\n",
       "    <tr>\n",
       "      <th>0</th>\n",
       "      <td>301074677039</td>\n",
       "      <td>0</td>\n",
       "      <td>73839</td>\n",
       "      <td>Apple iPod nano 7th Generation Purple (16 GB) ...</td>\n",
       "    </tr>\n",
       "    <tr>\n",
       "      <th>1</th>\n",
       "      <td>191049351783</td>\n",
       "      <td>0</td>\n",
       "      <td>73839</td>\n",
       "      <td>APPLE IPOD TOUCH 16GB 4TH GEN WHITE MP3 PLAYER</td>\n",
       "    </tr>\n",
       "    <tr>\n",
       "      <th>2</th>\n",
       "      <td>251402664662</td>\n",
       "      <td>0</td>\n",
       "      <td>73839</td>\n",
       "      <td>Sport Sunglasses Headset Sun Glasses FOR IPHO...</td>\n",
       "    </tr>\n",
       "    <tr>\n",
       "      <th>3</th>\n",
       "      <td>370975588476</td>\n",
       "      <td>0</td>\n",
       "      <td>73839</td>\n",
       "      <td>DISNEY PARKS WHERE DREAMS COME TRUE MP3 PLAYER...</td>\n",
       "    </tr>\n",
       "    <tr>\n",
       "      <th>4</th>\n",
       "      <td>251398873497</td>\n",
       "      <td>0</td>\n",
       "      <td>73839</td>\n",
       "      <td>Mp3 Player Sunglasses 8gb Black w/ Bluetooth b...</td>\n",
       "    </tr>\n",
       "  </tbody>\n",
       "</table>\n",
       "</div>"
      ],
      "text/plain": [
       "             id  site category  \\\n",
       "0  301074677039     0    73839   \n",
       "1  191049351783     0    73839   \n",
       "2  251402664662     0    73839   \n",
       "3  370975588476     0    73839   \n",
       "4  251398873497     0    73839   \n",
       "\n",
       "                                               title  \n",
       "0  Apple iPod nano 7th Generation Purple (16 GB) ...  \n",
       "1     APPLE IPOD TOUCH 16GB 4TH GEN WHITE MP3 PLAYER  \n",
       "2   Sport Sunglasses Headset Sun Glasses FOR IPHO...  \n",
       "3  DISNEY PARKS WHERE DREAMS COME TRUE MP3 PLAYER...  \n",
       "4  Mp3 Player Sunglasses 8gb Black w/ Bluetooth b...  "
      ]
     },
     "execution_count": 148,
     "metadata": {},
     "output_type": "execute_result"
    }
   ],
   "source": [
    "data = pd.read_table('data/mp3 players 73839.txt', header = None)\n",
    "data.columns = ['id', 'site', 'category', 'title']\n",
    "data.head()"
   ]
  },
  {
   "cell_type": "code",
   "execution_count": 149,
   "metadata": {
    "collapsed": false
   },
   "outputs": [
    {
     "data": {
      "text/plain": [
       "(24691, 4)"
      ]
     },
     "execution_count": 149,
     "metadata": {},
     "output_type": "execute_result"
    }
   ],
   "source": [
    "data.shape"
   ]
  },
  {
   "cell_type": "code",
   "execution_count": 150,
   "metadata": {
    "collapsed": false
   },
   "outputs": [
    {
     "data": {
      "text/plain": [
       "(10001, 4)"
      ]
     },
     "execution_count": 150,
     "metadata": {},
     "output_type": "execute_result"
    }
   ],
   "source": [
    "# subset records during exploration if necessary!\n",
    "\n",
    "data_2 = data.ix[:10000]\n",
    "data_2.shape"
   ]
  },
  {
   "cell_type": "markdown",
   "metadata": {},
   "source": [
    "# step 1: text preprocessing\n",
    "\n",
    "lets focus on nouns, since we're generating a term document matrix from product-centric titles."
   ]
  },
  {
   "cell_type": "code",
   "execution_count": 151,
   "metadata": {
    "collapsed": true
   },
   "outputs": [],
   "source": [
    "def extract_nouns_from_title(title):\n",
    "    '''\n",
    "    function:\n",
    "    ---------\n",
    "    extract nouns from a product title. by doing so, we effectively fit tdm to the most\n",
    "    relevant aspects of the title string.\n",
    "    \n",
    "    parameter:\n",
    "    ----------\n",
    "    @title: str, refering to product title.\n",
    "    \n",
    "    returns:\n",
    "    --------\n",
    "    @title_nouns_only: str, referring to product title with nouns only. this output will be \n",
    "    used to fit a term document matrix.\n",
    "    '''\n",
    "    \n",
    "    try:\n",
    "        title = unicode(title)\n",
    "        parsedData = parser(title)\n",
    "        \n",
    "        # split product title into multiple sentences if necessary\n",
    "        for span in parsedData.sents:\n",
    "            sent = [parsedData[i] for i in range(span.start, span.end)]\n",
    "            break\n",
    "        \n",
    "        # collect tokens only if they are nouns\n",
    "        title_nouns_only = [token.orth_ for token in sent if token.pos_ == 'NOUN']\n",
    "        return \" \".join(title_nouns_only)\n",
    "    \n",
    "    except:\n",
    "        return title # certain char not recognized and cannot be recasted to unicode!"
   ]
  },
  {
   "cell_type": "code",
   "execution_count": 152,
   "metadata": {
    "collapsed": false
   },
   "outputs": [
    {
     "name": "stderr",
     "output_type": "stream",
     "text": [
      "/Users/vincenttang/anaconda/lib/python2.7/site-packages/ipykernel/__main__.py:3: SettingWithCopyWarning: \n",
      "A value is trying to be set on a copy of a slice from a DataFrame.\n",
      "Try using .loc[row_indexer,col_indexer] = value instead\n",
      "\n",
      "See the the caveats in the documentation: http://pandas.pydata.org/pandas-docs/stable/indexing.html#indexing-view-versus-copy\n",
      "  app.launch_new_instance()\n"
     ]
    }
   ],
   "source": [
    "# create new column by mapping extract_nouns_from_title() to titles\n",
    "\n",
    "data_2['title_clean'] = map(lambda x: extract_nouns_from_title(x), data_2['title'])"
   ]
  },
  {
   "cell_type": "markdown",
   "metadata": {},
   "source": [
    "# step 2: n-grams & tdm\n",
    "\n",
    "generate term document matrix of ngrams (unigrams, bigrams and trigrams). frequently occuring ngrams will be weighted less, whereas rare words will be weighted more."
   ]
  },
  {
   "cell_type": "code",
   "execution_count": 153,
   "metadata": {
    "collapsed": false
   },
   "outputs": [],
   "source": [
    "# PRE-FITTED VECTORIZER IF IT EXISTS\n",
    "\n",
    "# vec = joblib.load('models/mp3/mp3_vec_v1.pkl')\n",
    "# tdm_sparse = vec.transform(data_2['title_clean'])"
   ]
  },
  {
   "cell_type": "code",
   "execution_count": 154,
   "metadata": {
    "collapsed": false
   },
   "outputs": [
    {
     "data": {
      "text/plain": [
       "['models/mp3/mp3_vec_v1.pkl',\n",
       " 'models/mp3/mp3_vec_v1.pkl_01.npy',\n",
       " 'models/mp3/mp3_vec_v1.pkl_02.npy']"
      ]
     },
     "execution_count": 154,
     "metadata": {},
     "output_type": "execute_result"
    }
   ],
   "source": [
    "# FIT NEW VECTORIZER\n",
    "\n",
    "vec = TfidfVectorizer(stop_words= 'english',ngram_range=(1,3),lowercase=True, max_features=1000)\n",
    "tdm_sparse = vec.fit_transform(data_2['title_clean'])\n",
    "joblib.dump(vec, 'models/mp3/mp3_vec_v1.pkl')"
   ]
  },
  {
   "cell_type": "code",
   "execution_count": 155,
   "metadata": {
    "collapsed": false
   },
   "outputs": [
    {
     "data": {
      "text/plain": [
       "[u'band', u'battery', u'bk', u'black', u'black 32gb']"
      ]
     },
     "execution_count": 155,
     "metadata": {},
     "output_type": "execute_result"
    }
   ],
   "source": [
    "# spot check tdm features\n",
    "\n",
    "vec.get_feature_names()[100:105]"
   ]
  },
  {
   "cell_type": "code",
   "execution_count": 156,
   "metadata": {
    "collapsed": false
   },
   "outputs": [
    {
     "data": {
      "text/html": [
       "<div>\n",
       "<table border=\"1\" class=\"dataframe\">\n",
       "  <thead>\n",
       "    <tr style=\"text-align: right;\">\n",
       "      <th></th>\n",
       "      <th>0</th>\n",
       "      <th>1</th>\n",
       "      <th>2</th>\n",
       "      <th>3</th>\n",
       "      <th>4</th>\n",
       "      <th>5</th>\n",
       "      <th>6</th>\n",
       "      <th>7</th>\n",
       "      <th>8</th>\n",
       "      <th>9</th>\n",
       "      <th>...</th>\n",
       "      <th>990</th>\n",
       "      <th>991</th>\n",
       "      <th>992</th>\n",
       "      <th>993</th>\n",
       "      <th>994</th>\n",
       "      <th>995</th>\n",
       "      <th>996</th>\n",
       "      <th>997</th>\n",
       "      <th>998</th>\n",
       "      <th>999</th>\n",
       "    </tr>\n",
       "  </thead>\n",
       "  <tbody>\n",
       "    <tr>\n",
       "      <th>0</th>\n",
       "      <td>0</td>\n",
       "      <td>0</td>\n",
       "      <td>0</td>\n",
       "      <td>0</td>\n",
       "      <td>0.000000</td>\n",
       "      <td>0.000000</td>\n",
       "      <td>0</td>\n",
       "      <td>0.000000</td>\n",
       "      <td>0</td>\n",
       "      <td>0</td>\n",
       "      <td>...</td>\n",
       "      <td>0</td>\n",
       "      <td>0</td>\n",
       "      <td>0</td>\n",
       "      <td>0</td>\n",
       "      <td>0</td>\n",
       "      <td>0</td>\n",
       "      <td>0</td>\n",
       "      <td>0</td>\n",
       "      <td>0</td>\n",
       "      <td>0</td>\n",
       "    </tr>\n",
       "    <tr>\n",
       "      <th>1</th>\n",
       "      <td>0</td>\n",
       "      <td>0</td>\n",
       "      <td>0</td>\n",
       "      <td>0</td>\n",
       "      <td>0.229953</td>\n",
       "      <td>0.302025</td>\n",
       "      <td>0</td>\n",
       "      <td>0.325897</td>\n",
       "      <td>0</td>\n",
       "      <td>0</td>\n",
       "      <td>...</td>\n",
       "      <td>0</td>\n",
       "      <td>0</td>\n",
       "      <td>0</td>\n",
       "      <td>0</td>\n",
       "      <td>0</td>\n",
       "      <td>0</td>\n",
       "      <td>0</td>\n",
       "      <td>0</td>\n",
       "      <td>0</td>\n",
       "      <td>0</td>\n",
       "    </tr>\n",
       "    <tr>\n",
       "      <th>2</th>\n",
       "      <td>0</td>\n",
       "      <td>0</td>\n",
       "      <td>0</td>\n",
       "      <td>0</td>\n",
       "      <td>0.000000</td>\n",
       "      <td>0.000000</td>\n",
       "      <td>0</td>\n",
       "      <td>0.000000</td>\n",
       "      <td>0</td>\n",
       "      <td>0</td>\n",
       "      <td>...</td>\n",
       "      <td>0</td>\n",
       "      <td>0</td>\n",
       "      <td>0</td>\n",
       "      <td>0</td>\n",
       "      <td>0</td>\n",
       "      <td>0</td>\n",
       "      <td>0</td>\n",
       "      <td>0</td>\n",
       "      <td>0</td>\n",
       "      <td>0</td>\n",
       "    </tr>\n",
       "    <tr>\n",
       "      <th>3</th>\n",
       "      <td>0</td>\n",
       "      <td>0</td>\n",
       "      <td>0</td>\n",
       "      <td>0</td>\n",
       "      <td>0.000000</td>\n",
       "      <td>0.000000</td>\n",
       "      <td>0</td>\n",
       "      <td>0.000000</td>\n",
       "      <td>0</td>\n",
       "      <td>0</td>\n",
       "      <td>...</td>\n",
       "      <td>0</td>\n",
       "      <td>0</td>\n",
       "      <td>0</td>\n",
       "      <td>0</td>\n",
       "      <td>0</td>\n",
       "      <td>0</td>\n",
       "      <td>0</td>\n",
       "      <td>0</td>\n",
       "      <td>0</td>\n",
       "      <td>0</td>\n",
       "    </tr>\n",
       "    <tr>\n",
       "      <th>4</th>\n",
       "      <td>0</td>\n",
       "      <td>0</td>\n",
       "      <td>0</td>\n",
       "      <td>0</td>\n",
       "      <td>0.000000</td>\n",
       "      <td>0.000000</td>\n",
       "      <td>0</td>\n",
       "      <td>0.000000</td>\n",
       "      <td>0</td>\n",
       "      <td>0</td>\n",
       "      <td>...</td>\n",
       "      <td>0</td>\n",
       "      <td>0</td>\n",
       "      <td>0</td>\n",
       "      <td>0</td>\n",
       "      <td>0</td>\n",
       "      <td>0</td>\n",
       "      <td>0</td>\n",
       "      <td>0</td>\n",
       "      <td>0</td>\n",
       "      <td>0</td>\n",
       "    </tr>\n",
       "  </tbody>\n",
       "</table>\n",
       "<p>5 rows × 1000 columns</p>\n",
       "</div>"
      ],
      "text/plain": [
       "   0    1    2    3         4         5    6         7    8    9   ...   990  \\\n",
       "0    0    0    0    0  0.000000  0.000000    0  0.000000    0    0 ...     0   \n",
       "1    0    0    0    0  0.229953  0.302025    0  0.325897    0    0 ...     0   \n",
       "2    0    0    0    0  0.000000  0.000000    0  0.000000    0    0 ...     0   \n",
       "3    0    0    0    0  0.000000  0.000000    0  0.000000    0    0 ...     0   \n",
       "4    0    0    0    0  0.000000  0.000000    0  0.000000    0    0 ...     0   \n",
       "\n",
       "   991  992  993  994  995  996  997  998  999  \n",
       "0    0    0    0    0    0    0    0    0    0  \n",
       "1    0    0    0    0    0    0    0    0    0  \n",
       "2    0    0    0    0    0    0    0    0    0  \n",
       "3    0    0    0    0    0    0    0    0    0  \n",
       "4    0    0    0    0    0    0    0    0    0  \n",
       "\n",
       "[5 rows x 1000 columns]"
      ]
     },
     "execution_count": 156,
     "metadata": {},
     "output_type": "execute_result"
    }
   ],
   "source": [
    "# convert to dense array for dimensionality reduction - might not be necessary\n",
    "\n",
    "tdm_dense = tdm_sparse.toarray()\n",
    "tdm_dense_df = pd.DataFrame(tdm_dense)\n",
    "tdm_dense_df.head()"
   ]
  },
  {
   "cell_type": "markdown",
   "metadata": {},
   "source": [
    "# step 3: reduce dimensionality\n",
    "\n",
    "dimensionality reduction may be optional since ANN handles high dimensional feature vectors very well!"
   ]
  },
  {
   "cell_type": "code",
   "execution_count": 157,
   "metadata": {
    "collapsed": false
   },
   "outputs": [],
   "source": [
    "# FIT PCA - should skip this step since ANN can search high dimensional vectors\n",
    "\n",
    "# reducer = PCA(n_components = 500)\n",
    "# tdm_reduced = reducer.fit_transform(tdm_dense)\n",
    "# joblib.dump(reducer, 'models/mp3/mp3_reducer_v1.pkl')"
   ]
  },
  {
   "cell_type": "code",
   "execution_count": 158,
   "metadata": {
    "collapsed": false
   },
   "outputs": [
    {
     "data": {
      "text/plain": [
       "(10001, 1000)"
      ]
     },
     "execution_count": 158,
     "metadata": {},
     "output_type": "execute_result"
    }
   ],
   "source": [
    "tdm_reduced_df = pd.DataFrame(tdm_dense_df)\n",
    "tdm_reduced_df.shape"
   ]
  },
  {
   "cell_type": "markdown",
   "metadata": {},
   "source": [
    "# step 4: extract named entities\n",
    "\n",
    "extracting named entities will resolve limitations of inverse weighting. named entities will then be captured in an unweighted tdm."
   ]
  },
  {
   "cell_type": "code",
   "execution_count": 159,
   "metadata": {
    "collapsed": false
   },
   "outputs": [],
   "source": [
    "# instantiate parser from spacy.io (nltk didnt work well)\n",
    "\n",
    "parser = English()"
   ]
  },
  {
   "cell_type": "code",
   "execution_count": 160,
   "metadata": {
    "collapsed": true
   },
   "outputs": [],
   "source": [
    "def extract_named_entities(sentence):\n",
    "    '''\n",
    "    function:\n",
    "    ---------\n",
    "    given a product title string, identify the named entity. a separate tdm will be fitted with\n",
    "    named entities.\n",
    "    \n",
    "    parameter:\n",
    "    ----------\n",
    "    @sentence: str, referring to product title string.\n",
    "    \n",
    "    returns:\n",
    "    --------\n",
    "    @named entity: str, referring to named entity in product title.\n",
    "    '''\n",
    "    \n",
    "    try:\n",
    "        sentence = unicode(sentence)\n",
    "        doc = parser(sentence)\n",
    "        return [chunk.orth_ for chunk in doc.noun_chunks][0]\n",
    "    \n",
    "    # catch instances where title string cannot be converted into unicode!\n",
    "    except:\n",
    "        return 'NA'"
   ]
  },
  {
   "cell_type": "code",
   "execution_count": 161,
   "metadata": {
    "collapsed": false
   },
   "outputs": [
    {
     "name": "stderr",
     "output_type": "stream",
     "text": [
      "/Users/vincenttang/anaconda/lib/python2.7/site-packages/ipykernel/__main__.py:3: SettingWithCopyWarning: \n",
      "A value is trying to be set on a copy of a slice from a DataFrame.\n",
      "Try using .loc[row_indexer,col_indexer] = value instead\n",
      "\n",
      "See the the caveats in the documentation: http://pandas.pydata.org/pandas-docs/stable/indexing.html#indexing-view-versus-copy\n",
      "  app.launch_new_instance()\n"
     ]
    },
    {
     "data": {
      "text/html": [
       "<div>\n",
       "<table border=\"1\" class=\"dataframe\">\n",
       "  <thead>\n",
       "    <tr style=\"text-align: right;\">\n",
       "      <th></th>\n",
       "      <th>id</th>\n",
       "      <th>site</th>\n",
       "      <th>category</th>\n",
       "      <th>title</th>\n",
       "      <th>title_clean</th>\n",
       "      <th>nouns</th>\n",
       "    </tr>\n",
       "  </thead>\n",
       "  <tbody>\n",
       "    <tr>\n",
       "      <th>0</th>\n",
       "      <td>301074677039</td>\n",
       "      <td>0</td>\n",
       "      <td>73839</td>\n",
       "      <td>Apple iPod nano 7th Generation Purple (16 GB) ...</td>\n",
       "      <td>Apple iPod nano Generation Purple GB Model</td>\n",
       "      <td>NA</td>\n",
       "    </tr>\n",
       "    <tr>\n",
       "      <th>1</th>\n",
       "      <td>191049351783</td>\n",
       "      <td>0</td>\n",
       "      <td>73839</td>\n",
       "      <td>APPLE IPOD TOUCH 16GB 4TH GEN WHITE MP3 PLAYER</td>\n",
       "      <td>IPOD TOUCH 16GB GEN WHITE MP3 PLAYER</td>\n",
       "      <td>IPOD TOUCH 16GB 4TH GEN WHITE MP3 PLAYER</td>\n",
       "    </tr>\n",
       "    <tr>\n",
       "      <th>2</th>\n",
       "      <td>251402664662</td>\n",
       "      <td>0</td>\n",
       "      <td>73839</td>\n",
       "      <td>Sport Sunglasses Headset Sun Glasses FOR IPHO...</td>\n",
       "      <td>Sport Sunglasses Headset Sun Glasses IPHONE SA...</td>\n",
       "      <td>IPHONE SAMSUNG HTC</td>\n",
       "    </tr>\n",
       "    <tr>\n",
       "      <th>3</th>\n",
       "      <td>370975588476</td>\n",
       "      <td>0</td>\n",
       "      <td>73839</td>\n",
       "      <td>DISNEY PARKS WHERE DREAMS COME TRUE MP3 PLAYER...</td>\n",
       "      <td>DISNEY PARKS DREAMS COME TRUE MP3 PLAYER USB F...</td>\n",
       "      <td>NA</td>\n",
       "    </tr>\n",
       "    <tr>\n",
       "      <th>4</th>\n",
       "      <td>251398873497</td>\n",
       "      <td>0</td>\n",
       "      <td>73839</td>\n",
       "      <td>Mp3 Player Sunglasses 8gb Black w/ Bluetooth b...</td>\n",
       "      <td>Mp3 Player Sunglasses Black w/ Bluetooth + Ext...</td>\n",
       "      <td>Black w/ Bluetooth</td>\n",
       "    </tr>\n",
       "  </tbody>\n",
       "</table>\n",
       "</div>"
      ],
      "text/plain": [
       "             id  site category  \\\n",
       "0  301074677039     0    73839   \n",
       "1  191049351783     0    73839   \n",
       "2  251402664662     0    73839   \n",
       "3  370975588476     0    73839   \n",
       "4  251398873497     0    73839   \n",
       "\n",
       "                                               title  \\\n",
       "0  Apple iPod nano 7th Generation Purple (16 GB) ...   \n",
       "1     APPLE IPOD TOUCH 16GB 4TH GEN WHITE MP3 PLAYER   \n",
       "2   Sport Sunglasses Headset Sun Glasses FOR IPHO...   \n",
       "3  DISNEY PARKS WHERE DREAMS COME TRUE MP3 PLAYER...   \n",
       "4  Mp3 Player Sunglasses 8gb Black w/ Bluetooth b...   \n",
       "\n",
       "                                         title_clean  \\\n",
       "0         Apple iPod nano Generation Purple GB Model   \n",
       "1               IPOD TOUCH 16GB GEN WHITE MP3 PLAYER   \n",
       "2  Sport Sunglasses Headset Sun Glasses IPHONE SA...   \n",
       "3  DISNEY PARKS DREAMS COME TRUE MP3 PLAYER USB F...   \n",
       "4  Mp3 Player Sunglasses Black w/ Bluetooth + Ext...   \n",
       "\n",
       "                                      nouns  \n",
       "0                                        NA  \n",
       "1  IPOD TOUCH 16GB 4TH GEN WHITE MP3 PLAYER  \n",
       "2                        IPHONE SAMSUNG HTC  \n",
       "3                                        NA  \n",
       "4                        Black w/ Bluetooth  "
      ]
     },
     "execution_count": 161,
     "metadata": {},
     "output_type": "execute_result"
    }
   ],
   "source": [
    "# create new column by mapping extract_named_entities() to titles\n",
    "\n",
    "data_2['nouns'] = map(lambda x: extract_named_entities(x), data_2['title'])\n",
    "data_2.head()"
   ]
  },
  {
   "cell_type": "code",
   "execution_count": 162,
   "metadata": {
    "collapsed": false
   },
   "outputs": [
    {
     "data": {
      "text/plain": [
       "(10001, 200)"
      ]
     },
     "execution_count": 162,
     "metadata": {},
     "output_type": "execute_result"
    }
   ],
   "source": [
    "# FIT NAMED ENTITY VECTORIZER\n",
    "\n",
    "ne_vec = CountVectorizer(stop_words= None,ngram_range=(2,3),lowercase=True, max_features=200)\n",
    "ne_tdm_sparse = ne_vec.fit_transform(data_2['nouns'])\n",
    "ne_tdm_dense = ne_tdm_sparse.toarray()\n",
    "ne_tdm_dense_df = pd.DataFrame(ne_tdm_dense)\n",
    "ne_tdm_reduced_df = pd.DataFrame(ne_tdm_dense_df)\n",
    "joblib.dump(ne_vec, 'models/mp3/mp3_ne_vec_v1.pkl')\n",
    "ne_tdm_reduced_df.shape"
   ]
  },
  {
   "cell_type": "markdown",
   "metadata": {},
   "source": [
    "# step 5: merge dataframes\n",
    "\n",
    "in this section, i merge product tdm (with inverse weighting) with named entity tdm. as result, each item is represented as a 1,200 dimensional vector."
   ]
  },
  {
   "cell_type": "code",
   "execution_count": 163,
   "metadata": {
    "collapsed": false
   },
   "outputs": [
    {
     "data": {
      "text/plain": [
       "(10001, 1200)"
      ]
     },
     "execution_count": 163,
     "metadata": {},
     "output_type": "execute_result"
    }
   ],
   "source": [
    "features = pd.concat([tdm_reduced_df, ne_tdm_reduced_df], axis = 1)\n",
    "features_df = pd.DataFrame(features)\n",
    "features_df.shape"
   ]
  },
  {
   "cell_type": "markdown",
   "metadata": {},
   "source": [
    "# step 6: ANN\n",
    "\n",
    "ANN is used to search high dimensional feature vectors."
   ]
  },
  {
   "cell_type": "markdown",
   "metadata": {},
   "source": [
    "### 6a: populate ANN"
   ]
  },
  {
   "cell_type": "code",
   "execution_count": 164,
   "metadata": {
    "collapsed": false
   },
   "outputs": [
    {
     "data": {
      "text/plain": [
       "True"
      ]
     },
     "execution_count": 164,
     "metadata": {},
     "output_type": "execute_result"
    }
   ],
   "source": [
    "ann = AnnoyIndex(features_df.shape[1])\n",
    "\n",
    "# populate ANN with each item \n",
    "for i in range(len(features_df)):\n",
    "    \n",
    "    vector = features_df.ix[i].tolist()\n",
    "    ann.add_item(i, vector) \n",
    "    \n",
    "ann.build(10) # 10 bins = 10x speedup!"
   ]
  },
  {
   "cell_type": "markdown",
   "metadata": {},
   "source": [
    "### 6b: inspect top 10 nearest neighbors"
   ]
  },
  {
   "cell_type": "code",
   "execution_count": 165,
   "metadata": {
    "collapsed": true
   },
   "outputs": [],
   "source": [
    "def retrieve_nearest_neighbors(query_idx):\n",
    "    '''\n",
    "    function:\n",
    "    ---------\n",
    "    given an item ID, print its 10 closest neighbors according to the pre-defined ANN.\n",
    "    \n",
    "    parameters:\n",
    "    -----------\n",
    "    @query_idx: int, representing the 12 digit item ID\n",
    "    \n",
    "    '''\n",
    "    \n",
    "    row_idx = np.where(data['id'] == query_idx)[0][0] #  look up corresponding item ID\n",
    "    \n",
    "    neighbors = ann.get_nns_by_item(row_idx,11) # return 11 neighbors as the first one is a duplicate\n",
    "    \n",
    "    for n in neighbors:\n",
    "        print data_2['title'].ix[n], cosine_similarity(features_df.ix[row_idx], features_df.ix[n])[0][0]\n",
    "        print '-' * 50"
   ]
  },
  {
   "cell_type": "code",
   "execution_count": 166,
   "metadata": {
    "collapsed": false
   },
   "outputs": [
    {
     "name": "stdout",
     "output_type": "stream",
     "text": [
      "Apple iPod nano 7th Generation Purple (16 GB) (Latest Model) 1.0\n",
      "--------------------------------------------------\n",
      "Apple iPod nano 7th Generation Purple (16 GB) (Latest Model) 1.0\n",
      "--------------------------------------------------\n",
      "Very NICE!!  Apple iPod nano 7th Generation Purple (16 GB) (Latest Model)  1.0\n",
      "--------------------------------------------------\n",
      "Apple iPod nano 7th Generation Purple (16 GB) (Latest Model) 1.0\n",
      "--------------------------------------------------\n",
      "Apple iPod nano 7th Generation Purple (16 GB) (Latest Model) 1.0\n",
      "--------------------------------------------------\n",
      "Apple iPod nano 7th Generation Purple (16 GB) (Latest Model) 1.0\n",
      "--------------------------------------------------\n",
      "Apple iPod nano 7th Generation Purple (16 GB) (Latest Model) 1.0\n",
      "--------------------------------------------------\n",
      "Apple iPod nano 7th Generation Purple (16 GB) (Latest Model) 1.0\n",
      "--------------------------------------------------\n",
      "Apple iPod nano 7th Generation Purple (16 GB) (Latest Model) FREE Shipping 0.881502801384\n",
      "--------------------------------------------------\n",
      "Brand New Apple iPod nano 7th Generation Purple (16 GB) (Latest Model) Sealed 0.770321958748\n",
      "--------------------------------------------------\n",
      "Apple iPod nano 5th Generation Purple model A1320 (8 GB) 0.720662766205\n",
      "--------------------------------------------------\n"
     ]
    }
   ],
   "source": [
    "# test case\n",
    "\n",
    "retrieve_nearest_neighbors(301074677039)"
   ]
  },
  {
   "cell_type": "markdown",
   "metadata": {},
   "source": [
    "# step 7: store nearest neighbors to csv"
   ]
  },
  {
   "cell_type": "markdown",
   "metadata": {},
   "source": [
    "for each record, find and store its nearest neighbors."
   ]
  },
  {
   "cell_type": "code",
   "execution_count": 167,
   "metadata": {
    "collapsed": true
   },
   "outputs": [],
   "source": [
    "def find_nearest_neighbors(row_id, num_neighbors):\n",
    "    \n",
    "    '''\n",
    "    function:\n",
    "    ---------\n",
    "    given an index id, return its 10 nearest neighbors. this version uses index id but\n",
    "    should be converted to accept item id. next time.\n",
    "    \n",
    "    returns a list of strings of index IDs. itll make it easier to construct a tdm of neighbors\n",
    "    for clustering purposes.\n",
    "    \n",
    "    parameters:\n",
    "    -----------\n",
    "    @row_id: int, referring to item's index id in the dataframe.\n",
    "    \n",
    "    returns:\n",
    "    --------\n",
    "    @neighbors: str list containing index IDs for nearest neighbors.\n",
    "    '''\n",
    "    neighbors_by_itemID = map(lambda x: rowID_to_itemID(x), ann.get_nns_by_item(row_id,num_neighbors))\n",
    "    \n",
    "    # convert to str and remove first element, which is the query item\n",
    "    neighbors = map(lambda x: str(x), neighbors_by_itemID) \n",
    "    \n",
    "    neighbors.pop(0) # remove the first element, which is the query item (duplicate)\n",
    "    \n",
    "    neighbors = ' '.join(neighbors)\n",
    "    \n",
    "    return neighbors\n",
    "\n",
    "\n",
    "def rowID_to_itemID(row_id):\n",
    "    '''\n",
    "    helper function for converting dataframe index to item ID\n",
    "    '''\n",
    "    return data_2['id'][row_id]"
   ]
  },
  {
   "cell_type": "code",
   "execution_count": 168,
   "metadata": {
    "collapsed": false
   },
   "outputs": [
    {
     "name": "stderr",
     "output_type": "stream",
     "text": [
      "/Users/vincenttang/anaconda/lib/python2.7/site-packages/ipykernel/__main__.py:3: SettingWithCopyWarning: \n",
      "A value is trying to be set on a copy of a slice from a DataFrame.\n",
      "Try using .loc[row_indexer,col_indexer] = value instead\n",
      "\n",
      "See the the caveats in the documentation: http://pandas.pydata.org/pandas-docs/stable/indexing.html#indexing-view-versus-copy\n",
      "  app.launch_new_instance()\n"
     ]
    },
    {
     "data": {
      "text/html": [
       "<div>\n",
       "<table border=\"1\" class=\"dataframe\">\n",
       "  <thead>\n",
       "    <tr style=\"text-align: right;\">\n",
       "      <th></th>\n",
       "      <th>id</th>\n",
       "      <th>site</th>\n",
       "      <th>category</th>\n",
       "      <th>title</th>\n",
       "      <th>title_clean</th>\n",
       "      <th>nouns</th>\n",
       "      <th>nearest_neighbors</th>\n",
       "    </tr>\n",
       "  </thead>\n",
       "  <tbody>\n",
       "    <tr>\n",
       "      <th>0</th>\n",
       "      <td>301074677039</td>\n",
       "      <td>0</td>\n",
       "      <td>73839</td>\n",
       "      <td>Apple iPod nano 7th Generation Purple (16 GB) ...</td>\n",
       "      <td>Apple iPod nano Generation Purple GB Model</td>\n",
       "      <td>NA</td>\n",
       "      <td>261381459395 321303260713 281252260666 2513495...</td>\n",
       "    </tr>\n",
       "    <tr>\n",
       "      <th>1</th>\n",
       "      <td>191049351783</td>\n",
       "      <td>0</td>\n",
       "      <td>73839</td>\n",
       "      <td>APPLE IPOD TOUCH 16GB 4TH GEN WHITE MP3 PLAYER</td>\n",
       "      <td>IPOD TOUCH 16GB GEN WHITE MP3 PLAYER</td>\n",
       "      <td>IPOD TOUCH 16GB 4TH GEN WHITE MP3 PLAYER</td>\n",
       "      <td>191049423545 201025866125 380825954957 3108546...</td>\n",
       "    </tr>\n",
       "    <tr>\n",
       "      <th>2</th>\n",
       "      <td>251402664662</td>\n",
       "      <td>0</td>\n",
       "      <td>73839</td>\n",
       "      <td>Sport Sunglasses Headset Sun Glasses FOR IPHO...</td>\n",
       "      <td>Sport Sunglasses Headset Sun Glasses IPHONE SA...</td>\n",
       "      <td>IPHONE SAMSUNG HTC</td>\n",
       "      <td>181231327891 331097733903 321184323358 4006496...</td>\n",
       "    </tr>\n",
       "    <tr>\n",
       "      <th>3</th>\n",
       "      <td>370975588476</td>\n",
       "      <td>0</td>\n",
       "      <td>73839</td>\n",
       "      <td>DISNEY PARKS WHERE DREAMS COME TRUE MP3 PLAYER...</td>\n",
       "      <td>DISNEY PARKS DREAMS COME TRUE MP3 PLAYER USB F...</td>\n",
       "      <td>NA</td>\n",
       "      <td>251340354504 281228373930 151216417741 3709557...</td>\n",
       "    </tr>\n",
       "    <tr>\n",
       "      <th>4</th>\n",
       "      <td>251398873497</td>\n",
       "      <td>0</td>\n",
       "      <td>73839</td>\n",
       "      <td>Mp3 Player Sunglasses 8gb Black w/ Bluetooth b...</td>\n",
       "      <td>Mp3 Player Sunglasses Black w/ Bluetooth + Ext...</td>\n",
       "      <td>Black w/ Bluetooth</td>\n",
       "      <td>291064340570 251430628863 251430613032 2910612...</td>\n",
       "    </tr>\n",
       "  </tbody>\n",
       "</table>\n",
       "</div>"
      ],
      "text/plain": [
       "             id  site category  \\\n",
       "0  301074677039     0    73839   \n",
       "1  191049351783     0    73839   \n",
       "2  251402664662     0    73839   \n",
       "3  370975588476     0    73839   \n",
       "4  251398873497     0    73839   \n",
       "\n",
       "                                               title  \\\n",
       "0  Apple iPod nano 7th Generation Purple (16 GB) ...   \n",
       "1     APPLE IPOD TOUCH 16GB 4TH GEN WHITE MP3 PLAYER   \n",
       "2   Sport Sunglasses Headset Sun Glasses FOR IPHO...   \n",
       "3  DISNEY PARKS WHERE DREAMS COME TRUE MP3 PLAYER...   \n",
       "4  Mp3 Player Sunglasses 8gb Black w/ Bluetooth b...   \n",
       "\n",
       "                                         title_clean  \\\n",
       "0         Apple iPod nano Generation Purple GB Model   \n",
       "1               IPOD TOUCH 16GB GEN WHITE MP3 PLAYER   \n",
       "2  Sport Sunglasses Headset Sun Glasses IPHONE SA...   \n",
       "3  DISNEY PARKS DREAMS COME TRUE MP3 PLAYER USB F...   \n",
       "4  Mp3 Player Sunglasses Black w/ Bluetooth + Ext...   \n",
       "\n",
       "                                      nouns  \\\n",
       "0                                        NA   \n",
       "1  IPOD TOUCH 16GB 4TH GEN WHITE MP3 PLAYER   \n",
       "2                        IPHONE SAMSUNG HTC   \n",
       "3                                        NA   \n",
       "4                        Black w/ Bluetooth   \n",
       "\n",
       "                                   nearest_neighbors  \n",
       "0  261381459395 321303260713 281252260666 2513495...  \n",
       "1  191049423545 201025866125 380825954957 3108546...  \n",
       "2  181231327891 331097733903 321184323358 4006496...  \n",
       "3  251340354504 281228373930 151216417741 3709557...  \n",
       "4  291064340570 251430628863 251430613032 2910612...  "
      ]
     },
     "execution_count": 168,
     "metadata": {},
     "output_type": "execute_result"
    }
   ],
   "source": [
    "# create new column called \"nearest neighbors\" by mapping find_nearest_neighbors() to index ID\n",
    "\n",
    "data_2['nearest_neighbors'] = map(lambda x: find_nearest_neighbors(x, 11), data_2.index)\n",
    "data_2.head()"
   ]
  },
  {
   "cell_type": "code",
   "execution_count": 169,
   "metadata": {
    "collapsed": false
   },
   "outputs": [],
   "source": [
    "# store data in csv format\n",
    "\n",
    "data_2['nearest_neighbors'].to_csv('output/mp3_neighbors.csv')"
   ]
  },
  {
   "cell_type": "markdown",
   "metadata": {
    "collapsed": true
   },
   "source": [
    "# step 8: cluster\n",
    "\n",
    "clustering was accomplished via kmeans. \n",
    "\n",
    "a tdm representing item's 10 nearest neighbors was generated. therefore, each item was represented by a 1000-dimensional vector, where each feature corresponded to an item."
   ]
  },
  {
   "cell_type": "code",
   "execution_count": 170,
   "metadata": {
    "collapsed": true
   },
   "outputs": [],
   "source": [
    "neighbors_vec = CountVectorizer(max_features=1000)"
   ]
  },
  {
   "cell_type": "code",
   "execution_count": 171,
   "metadata": {
    "collapsed": false
   },
   "outputs": [
    {
     "data": {
      "text/plain": [
       "(10001, 1000)"
      ]
     },
     "execution_count": 171,
     "metadata": {},
     "output_type": "execute_result"
    }
   ],
   "source": [
    "# fit tdm to 10 nearest neighbors\n",
    "\n",
    "neighbors_tdm_sparse = neighbors_vec.fit_transform(data_2['nearest_neighbors'])\n",
    "neighbors_tdm_dense = neighbors_tdm_sparse.toarray()\n",
    "neighbors_tdm_dense_df = pd.DataFrame(neighbors_tdm_dense)\n",
    "neighbors_tdm_dense_df.shape"
   ]
  },
  {
   "cell_type": "code",
   "execution_count": 172,
   "metadata": {
    "collapsed": false
   },
   "outputs": [
    {
     "data": {
      "text/plain": [
       "KMeans(copy_x=True, init='k-means++', max_iter=100, n_clusters=50, n_init=1,\n",
       "    n_jobs=1, precompute_distances='auto', random_state=None, tol=0.0001,\n",
       "    verbose=0)"
      ]
     },
     "execution_count": 172,
     "metadata": {},
     "output_type": "execute_result"
    }
   ],
   "source": [
    "model = KMeans(n_clusters=50, init='k-means++', max_iter=100, n_init=1)\n",
    "model.fit(neighbors_tdm_dense_df)"
   ]
  },
  {
   "cell_type": "code",
   "execution_count": 173,
   "metadata": {
    "collapsed": false
   },
   "outputs": [],
   "source": [
    "categories = model.predict(neighbors_tdm_dense_df)"
   ]
  },
  {
   "cell_type": "code",
   "execution_count": 176,
   "metadata": {
    "collapsed": false
   },
   "outputs": [
    {
     "name": "stdout",
     "output_type": "stream",
     "text": [
      "48      Microsoft Zune Black (120 GB) Digital Media Pl...\n",
      "750     Microsoft Zune 120 Black (120 GB) Digital Medi...\n",
      "962     Microsoft Zune 30 Black (30 GB) Digital Media ...\n",
      "1299    Microsoft Zune 30 Black (30 GB) Digital Media ...\n",
      "1617    Microsoft Zune Black (120 GB) Digital Media Pl...\n",
      "1744    ****FACTORY SEALED**** Microsoft Zune Black (8...\n",
      "2739                 Microsoft Zune 16GB Black USA Seller\n",
      "2973    Microsoft Zune 30 Black (30 GB) Digital Media ...\n",
      "2998    Microsoft Zune 80 Black (80 GB) Media Player &...\n",
      "3264    Microsoft Zune Black (120 GB) Digital Media Pl...\n",
      "3533    Microsoft Zune 80 Black (80 GB) Digital Media ...\n",
      "3987    Microsoft Zune 30 Black (30 GB) Digital Media ...\n",
      "4498    Bundled Orig Microsoft Zune 30 Black (30 GB) D...\n",
      "4802    Microsoft Zune Black (120 GB) Digital Media Pl...\n",
      "5335    Microsoft Zune 30 Black (30 GB) Digital Media ...\n",
      "6752    Microsoft Zune 8 Black 8 GB 8GB FM Wi-Fi Digit...\n",
      "7166    Microsoft Zune 80 Black (80 GB) Digital Media ...\n",
      "7662    Microsoft Zune 80 Black (80 GB) Digital Media ...\n",
      "7675    Microsoft Zune 30 Black (30 GB) Digital Media ...\n",
      "8137    Microsoft Zune Black (120 GB) Digital Media Pl...\n",
      "8179    Microsoft Zune 80 Black Digital Media Player  ...\n",
      "8500    PARTS ONLY Microsoft Zune 30 Black (30 GB) Dig...\n",
      "8581    Microsoft Zune Black (30 GB) MP3 Player Boxed ...\n",
      "9024    Microsoft Zune Black (120 GB) Digital Media Pl...\n",
      "9526    Microsoft Zune 120 Black (120 GB) Digital Medi...\n",
      "9929    Microsoft Zune Black (120 GB) Digital Media Pl...\n",
      "Name: title, dtype: object\n"
     ]
    }
   ],
   "source": [
    "# inspect clusters\n",
    "\n",
    "cluster_idx = 19\n",
    "\n",
    "selectors = np.where(categories == cluster_idx)\n",
    "\n",
    "for idx in selectors:\n",
    "    print data_2['title'][idx]"
   ]
  },
  {
   "cell_type": "code",
   "execution_count": null,
   "metadata": {
    "collapsed": true
   },
   "outputs": [],
   "source": []
  }
 ],
 "metadata": {
  "kernelspec": {
   "display_name": "Python 2",
   "language": "python",
   "name": "python2"
  },
  "language_info": {
   "codemirror_mode": {
    "name": "ipython",
    "version": 2
   },
   "file_extension": ".py",
   "mimetype": "text/x-python",
   "name": "python",
   "nbconvert_exporter": "python",
   "pygments_lexer": "ipython2",
   "version": "2.7.10"
  }
 },
 "nbformat": 4,
 "nbformat_minor": 0
}
