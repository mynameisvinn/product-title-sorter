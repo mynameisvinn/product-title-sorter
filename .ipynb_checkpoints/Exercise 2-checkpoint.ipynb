{
 "cells": [
  {
   "cell_type": "code",
   "execution_count": 3,
   "metadata": {
    "collapsed": true
   },
   "outputs": [],
   "source": [
    "import pandas as pd\n",
    "from sklearn.decomposition import PCA\n",
    "from sklearn.cluster import KMeans\n",
    "import numpy as np\n",
    "from sklearn.feature_extraction.text import CountVectorizer"
   ]
  },
  {
   "cell_type": "code",
   "execution_count": 20,
   "metadata": {
    "collapsed": false
   },
   "outputs": [
    {
     "data": {
      "text/html": [
       "<div>\n",
       "<table border=\"1\" class=\"dataframe\">\n",
       "  <thead>\n",
       "    <tr style=\"text-align: right;\">\n",
       "      <th></th>\n",
       "      <th>id</th>\n",
       "      <th>site</th>\n",
       "      <th>category</th>\n",
       "      <th>title</th>\n",
       "    </tr>\n",
       "  </thead>\n",
       "  <tbody>\n",
       "    <tr>\n",
       "      <th>0</th>\n",
       "      <td>350946226735</td>\n",
       "      <td>0</td>\n",
       "      <td>20349</td>\n",
       "      <td>Connecticut Huskies Wordmark on BlackBerry Tor...</td>\n",
       "    </tr>\n",
       "    <tr>\n",
       "      <th>1</th>\n",
       "      <td>310801215722</td>\n",
       "      <td>0</td>\n",
       "      <td>20349</td>\n",
       "      <td>Der Delight Windows Bracket Case Battery Cover...</td>\n",
       "    </tr>\n",
       "    <tr>\n",
       "      <th>2</th>\n",
       "      <td>151052793175</td>\n",
       "      <td>0</td>\n",
       "      <td>20349</td>\n",
       "      <td>NFC Leather Housing Battery Flip Case Cover Sa...</td>\n",
       "    </tr>\n",
       "    <tr>\n",
       "      <th>3</th>\n",
       "      <td>141174411773</td>\n",
       "      <td>0</td>\n",
       "      <td>20349</td>\n",
       "      <td>FOR Sprint LG Optimus G LS970 HARD Protector S...</td>\n",
       "    </tr>\n",
       "    <tr>\n",
       "      <th>4</th>\n",
       "      <td>310647790715</td>\n",
       "      <td>0</td>\n",
       "      <td>20349</td>\n",
       "      <td>Skinit 505 Silhouettes Skin for LG Cosmos VN250</td>\n",
       "    </tr>\n",
       "  </tbody>\n",
       "</table>\n",
       "</div>"
      ],
      "text/plain": [
       "             id  site category  \\\n",
       "0  350946226735     0    20349   \n",
       "1  310801215722     0    20349   \n",
       "2  151052793175     0    20349   \n",
       "3  141174411773     0    20349   \n",
       "4  310647790715     0    20349   \n",
       "\n",
       "                                               title  \n",
       "0  Connecticut Huskies Wordmark on BlackBerry Tor...  \n",
       "1  Der Delight Windows Bracket Case Battery Cover...  \n",
       "2  NFC Leather Housing Battery Flip Case Cover Sa...  \n",
       "3  FOR Sprint LG Optimus G LS970 HARD Protector S...  \n",
       "4    Skinit 505 Silhouettes Skin for LG Cosmos VN250  "
      ]
     },
     "execution_count": 20,
     "metadata": {},
     "output_type": "execute_result"
    }
   ],
   "source": [
    "reference = pd.read_table('data/cases 20349.txt', header = None)\n",
    "reference.columns = ['id', 'site', 'category', 'title']\n",
    "reference.head()"
   ]
  },
  {
   "cell_type": "markdown",
   "metadata": {},
   "source": [
    "# approach 1: cluster by tdm"
   ]
  },
  {
   "cell_type": "markdown",
   "metadata": {},
   "source": [
    "### 1A) read feature vectors into memory and reduce"
   ]
  },
  {
   "cell_type": "code",
   "execution_count": 5,
   "metadata": {
    "collapsed": false
   },
   "outputs": [
    {
     "data": {
      "text/html": [
       "<div>\n",
       "<table border=\"1\" class=\"dataframe\">\n",
       "  <thead>\n",
       "    <tr style=\"text-align: right;\">\n",
       "      <th></th>\n",
       "      <th>Unnamed: 0</th>\n",
       "      <th>0</th>\n",
       "      <th>1</th>\n",
       "      <th>2</th>\n",
       "      <th>3</th>\n",
       "      <th>4</th>\n",
       "      <th>5</th>\n",
       "      <th>6</th>\n",
       "      <th>7</th>\n",
       "      <th>8</th>\n",
       "      <th>...</th>\n",
       "      <th>490.1</th>\n",
       "      <th>491.1</th>\n",
       "      <th>492.1</th>\n",
       "      <th>493.1</th>\n",
       "      <th>494.1</th>\n",
       "      <th>495.1</th>\n",
       "      <th>496.1</th>\n",
       "      <th>497.1</th>\n",
       "      <th>498.1</th>\n",
       "      <th>499.1</th>\n",
       "    </tr>\n",
       "  </thead>\n",
       "  <tbody>\n",
       "    <tr>\n",
       "      <th>0</th>\n",
       "      <td>0</td>\n",
       "      <td>-0.018615</td>\n",
       "      <td>0.044593</td>\n",
       "      <td>0.033754</td>\n",
       "      <td>0.017147</td>\n",
       "      <td>-0.013408</td>\n",
       "      <td>-0.008801</td>\n",
       "      <td>0.026520</td>\n",
       "      <td>-0.001875</td>\n",
       "      <td>0.003662</td>\n",
       "      <td>...</td>\n",
       "      <td>0.000354</td>\n",
       "      <td>0.000027</td>\n",
       "      <td>0.000150</td>\n",
       "      <td>-0.000089</td>\n",
       "      <td>-8.266202e-07</td>\n",
       "      <td>-0.000216</td>\n",
       "      <td>0.000094</td>\n",
       "      <td>0.000139</td>\n",
       "      <td>-0.000110</td>\n",
       "      <td>-0.000042</td>\n",
       "    </tr>\n",
       "    <tr>\n",
       "      <th>1</th>\n",
       "      <td>1</td>\n",
       "      <td>-0.020404</td>\n",
       "      <td>0.044956</td>\n",
       "      <td>0.034604</td>\n",
       "      <td>0.017118</td>\n",
       "      <td>-0.011580</td>\n",
       "      <td>-0.010824</td>\n",
       "      <td>0.028206</td>\n",
       "      <td>-0.007174</td>\n",
       "      <td>0.002715</td>\n",
       "      <td>...</td>\n",
       "      <td>0.001100</td>\n",
       "      <td>0.000579</td>\n",
       "      <td>-0.000039</td>\n",
       "      <td>0.000113</td>\n",
       "      <td>-9.858511e-04</td>\n",
       "      <td>0.000142</td>\n",
       "      <td>-0.002124</td>\n",
       "      <td>0.000107</td>\n",
       "      <td>0.000526</td>\n",
       "      <td>-0.001291</td>\n",
       "    </tr>\n",
       "    <tr>\n",
       "      <th>2</th>\n",
       "      <td>2</td>\n",
       "      <td>0.067482</td>\n",
       "      <td>0.002221</td>\n",
       "      <td>-0.008682</td>\n",
       "      <td>-0.064167</td>\n",
       "      <td>-0.082925</td>\n",
       "      <td>0.046530</td>\n",
       "      <td>0.019452</td>\n",
       "      <td>-0.015765</td>\n",
       "      <td>-0.020444</td>\n",
       "      <td>...</td>\n",
       "      <td>-0.001167</td>\n",
       "      <td>-0.000090</td>\n",
       "      <td>-0.000500</td>\n",
       "      <td>0.000304</td>\n",
       "      <td>2.823215e-06</td>\n",
       "      <td>0.000739</td>\n",
       "      <td>-0.000327</td>\n",
       "      <td>-0.000484</td>\n",
       "      <td>0.000385</td>\n",
       "      <td>0.000147</td>\n",
       "    </tr>\n",
       "    <tr>\n",
       "      <th>3</th>\n",
       "      <td>3</td>\n",
       "      <td>-0.022178</td>\n",
       "      <td>0.046221</td>\n",
       "      <td>0.040738</td>\n",
       "      <td>0.021026</td>\n",
       "      <td>-0.003364</td>\n",
       "      <td>-0.019198</td>\n",
       "      <td>0.025294</td>\n",
       "      <td>0.004982</td>\n",
       "      <td>0.015839</td>\n",
       "      <td>...</td>\n",
       "      <td>-0.051811</td>\n",
       "      <td>-0.035410</td>\n",
       "      <td>-0.016383</td>\n",
       "      <td>-0.022950</td>\n",
       "      <td>-2.903728e-02</td>\n",
       "      <td>0.008659</td>\n",
       "      <td>0.004858</td>\n",
       "      <td>-0.002010</td>\n",
       "      <td>-0.020509</td>\n",
       "      <td>-0.027004</td>\n",
       "    </tr>\n",
       "    <tr>\n",
       "      <th>4</th>\n",
       "      <td>4</td>\n",
       "      <td>-0.019379</td>\n",
       "      <td>0.047132</td>\n",
       "      <td>0.032588</td>\n",
       "      <td>0.018126</td>\n",
       "      <td>-0.014113</td>\n",
       "      <td>-0.011335</td>\n",
       "      <td>0.029900</td>\n",
       "      <td>-0.003417</td>\n",
       "      <td>0.003236</td>\n",
       "      <td>...</td>\n",
       "      <td>0.010197</td>\n",
       "      <td>-0.004490</td>\n",
       "      <td>-0.000406</td>\n",
       "      <td>0.006426</td>\n",
       "      <td>1.011754e-02</td>\n",
       "      <td>0.007087</td>\n",
       "      <td>-0.005874</td>\n",
       "      <td>-0.007453</td>\n",
       "      <td>-0.009313</td>\n",
       "      <td>-0.016810</td>\n",
       "    </tr>\n",
       "  </tbody>\n",
       "</table>\n",
       "<p>5 rows × 1001 columns</p>\n",
       "</div>"
      ],
      "text/plain": [
       "   Unnamed: 0         0         1         2         3         4         5  \\\n",
       "0           0 -0.018615  0.044593  0.033754  0.017147 -0.013408 -0.008801   \n",
       "1           1 -0.020404  0.044956  0.034604  0.017118 -0.011580 -0.010824   \n",
       "2           2  0.067482  0.002221 -0.008682 -0.064167 -0.082925  0.046530   \n",
       "3           3 -0.022178  0.046221  0.040738  0.021026 -0.003364 -0.019198   \n",
       "4           4 -0.019379  0.047132  0.032588  0.018126 -0.014113 -0.011335   \n",
       "\n",
       "          6         7         8    ...        490.1     491.1     492.1  \\\n",
       "0  0.026520 -0.001875  0.003662    ...     0.000354  0.000027  0.000150   \n",
       "1  0.028206 -0.007174  0.002715    ...     0.001100  0.000579 -0.000039   \n",
       "2  0.019452 -0.015765 -0.020444    ...    -0.001167 -0.000090 -0.000500   \n",
       "3  0.025294  0.004982  0.015839    ...    -0.051811 -0.035410 -0.016383   \n",
       "4  0.029900 -0.003417  0.003236    ...     0.010197 -0.004490 -0.000406   \n",
       "\n",
       "      493.1         494.1     495.1     496.1     497.1     498.1     499.1  \n",
       "0 -0.000089 -8.266202e-07 -0.000216  0.000094  0.000139 -0.000110 -0.000042  \n",
       "1  0.000113 -9.858511e-04  0.000142 -0.002124  0.000107  0.000526 -0.001291  \n",
       "2  0.000304  2.823215e-06  0.000739 -0.000327 -0.000484  0.000385  0.000147  \n",
       "3 -0.022950 -2.903728e-02  0.008659  0.004858 -0.002010 -0.020509 -0.027004  \n",
       "4  0.006426  1.011754e-02  0.007087 -0.005874 -0.007453 -0.009313 -0.016810  \n",
       "\n",
       "[5 rows x 1001 columns]"
      ]
     },
     "execution_count": 5,
     "metadata": {},
     "output_type": "execute_result"
    }
   ],
   "source": [
    "tdm_data = pd.read_csv('features/cases/cases_tdm.csv')\n",
    "tdm_data.head()"
   ]
  },
  {
   "cell_type": "code",
   "execution_count": 6,
   "metadata": {
    "collapsed": false
   },
   "outputs": [
    {
     "data": {
      "text/html": [
       "<div>\n",
       "<table border=\"1\" class=\"dataframe\">\n",
       "  <thead>\n",
       "    <tr style=\"text-align: right;\">\n",
       "      <th></th>\n",
       "      <th>1</th>\n",
       "      <th>2</th>\n",
       "      <th>3</th>\n",
       "      <th>4</th>\n",
       "      <th>5</th>\n",
       "      <th>6</th>\n",
       "      <th>7</th>\n",
       "      <th>8</th>\n",
       "      <th>9</th>\n",
       "      <th>10</th>\n",
       "      <th>...</th>\n",
       "      <th>490.1</th>\n",
       "      <th>491.1</th>\n",
       "      <th>492.1</th>\n",
       "      <th>493.1</th>\n",
       "      <th>494.1</th>\n",
       "      <th>495.1</th>\n",
       "      <th>496.1</th>\n",
       "      <th>497.1</th>\n",
       "      <th>498.1</th>\n",
       "      <th>499.1</th>\n",
       "    </tr>\n",
       "  </thead>\n",
       "  <tbody>\n",
       "    <tr>\n",
       "      <th>0</th>\n",
       "      <td>0.044593</td>\n",
       "      <td>0.033754</td>\n",
       "      <td>0.017147</td>\n",
       "      <td>-0.013408</td>\n",
       "      <td>-0.008801</td>\n",
       "      <td>0.026520</td>\n",
       "      <td>-0.001875</td>\n",
       "      <td>0.003662</td>\n",
       "      <td>0.001454</td>\n",
       "      <td>0.021749</td>\n",
       "      <td>...</td>\n",
       "      <td>0.000354</td>\n",
       "      <td>0.000027</td>\n",
       "      <td>0.000150</td>\n",
       "      <td>-0.000089</td>\n",
       "      <td>-8.266202e-07</td>\n",
       "      <td>-0.000216</td>\n",
       "      <td>0.000094</td>\n",
       "      <td>0.000139</td>\n",
       "      <td>-0.000110</td>\n",
       "      <td>-0.000042</td>\n",
       "    </tr>\n",
       "    <tr>\n",
       "      <th>1</th>\n",
       "      <td>0.044956</td>\n",
       "      <td>0.034604</td>\n",
       "      <td>0.017118</td>\n",
       "      <td>-0.011580</td>\n",
       "      <td>-0.010824</td>\n",
       "      <td>0.028206</td>\n",
       "      <td>-0.007174</td>\n",
       "      <td>0.002715</td>\n",
       "      <td>-0.000914</td>\n",
       "      <td>0.025136</td>\n",
       "      <td>...</td>\n",
       "      <td>0.001100</td>\n",
       "      <td>0.000579</td>\n",
       "      <td>-0.000039</td>\n",
       "      <td>0.000113</td>\n",
       "      <td>-9.858511e-04</td>\n",
       "      <td>0.000142</td>\n",
       "      <td>-0.002124</td>\n",
       "      <td>0.000107</td>\n",
       "      <td>0.000526</td>\n",
       "      <td>-0.001291</td>\n",
       "    </tr>\n",
       "    <tr>\n",
       "      <th>2</th>\n",
       "      <td>0.002221</td>\n",
       "      <td>-0.008682</td>\n",
       "      <td>-0.064167</td>\n",
       "      <td>-0.082925</td>\n",
       "      <td>0.046530</td>\n",
       "      <td>0.019452</td>\n",
       "      <td>-0.015765</td>\n",
       "      <td>-0.020444</td>\n",
       "      <td>-0.061294</td>\n",
       "      <td>-0.030251</td>\n",
       "      <td>...</td>\n",
       "      <td>-0.001167</td>\n",
       "      <td>-0.000090</td>\n",
       "      <td>-0.000500</td>\n",
       "      <td>0.000304</td>\n",
       "      <td>2.823215e-06</td>\n",
       "      <td>0.000739</td>\n",
       "      <td>-0.000327</td>\n",
       "      <td>-0.000484</td>\n",
       "      <td>0.000385</td>\n",
       "      <td>0.000147</td>\n",
       "    </tr>\n",
       "    <tr>\n",
       "      <th>3</th>\n",
       "      <td>0.046221</td>\n",
       "      <td>0.040738</td>\n",
       "      <td>0.021026</td>\n",
       "      <td>-0.003364</td>\n",
       "      <td>-0.019198</td>\n",
       "      <td>0.025294</td>\n",
       "      <td>0.004982</td>\n",
       "      <td>0.015839</td>\n",
       "      <td>0.012907</td>\n",
       "      <td>0.029395</td>\n",
       "      <td>...</td>\n",
       "      <td>-0.051811</td>\n",
       "      <td>-0.035410</td>\n",
       "      <td>-0.016383</td>\n",
       "      <td>-0.022950</td>\n",
       "      <td>-2.903728e-02</td>\n",
       "      <td>0.008659</td>\n",
       "      <td>0.004858</td>\n",
       "      <td>-0.002010</td>\n",
       "      <td>-0.020509</td>\n",
       "      <td>-0.027004</td>\n",
       "    </tr>\n",
       "    <tr>\n",
       "      <th>4</th>\n",
       "      <td>0.047132</td>\n",
       "      <td>0.032588</td>\n",
       "      <td>0.018126</td>\n",
       "      <td>-0.014113</td>\n",
       "      <td>-0.011335</td>\n",
       "      <td>0.029900</td>\n",
       "      <td>-0.003417</td>\n",
       "      <td>0.003236</td>\n",
       "      <td>0.001189</td>\n",
       "      <td>0.021974</td>\n",
       "      <td>...</td>\n",
       "      <td>0.010197</td>\n",
       "      <td>-0.004490</td>\n",
       "      <td>-0.000406</td>\n",
       "      <td>0.006426</td>\n",
       "      <td>1.011754e-02</td>\n",
       "      <td>0.007087</td>\n",
       "      <td>-0.005874</td>\n",
       "      <td>-0.007453</td>\n",
       "      <td>-0.009313</td>\n",
       "      <td>-0.016810</td>\n",
       "    </tr>\n",
       "  </tbody>\n",
       "</table>\n",
       "<p>5 rows × 999 columns</p>\n",
       "</div>"
      ],
      "text/plain": [
       "          1         2         3         4         5         6         7  \\\n",
       "0  0.044593  0.033754  0.017147 -0.013408 -0.008801  0.026520 -0.001875   \n",
       "1  0.044956  0.034604  0.017118 -0.011580 -0.010824  0.028206 -0.007174   \n",
       "2  0.002221 -0.008682 -0.064167 -0.082925  0.046530  0.019452 -0.015765   \n",
       "3  0.046221  0.040738  0.021026 -0.003364 -0.019198  0.025294  0.004982   \n",
       "4  0.047132  0.032588  0.018126 -0.014113 -0.011335  0.029900 -0.003417   \n",
       "\n",
       "          8         9        10    ...        490.1     491.1     492.1  \\\n",
       "0  0.003662  0.001454  0.021749    ...     0.000354  0.000027  0.000150   \n",
       "1  0.002715 -0.000914  0.025136    ...     0.001100  0.000579 -0.000039   \n",
       "2 -0.020444 -0.061294 -0.030251    ...    -0.001167 -0.000090 -0.000500   \n",
       "3  0.015839  0.012907  0.029395    ...    -0.051811 -0.035410 -0.016383   \n",
       "4  0.003236  0.001189  0.021974    ...     0.010197 -0.004490 -0.000406   \n",
       "\n",
       "      493.1         494.1     495.1     496.1     497.1     498.1     499.1  \n",
       "0 -0.000089 -8.266202e-07 -0.000216  0.000094  0.000139 -0.000110 -0.000042  \n",
       "1  0.000113 -9.858511e-04  0.000142 -0.002124  0.000107  0.000526 -0.001291  \n",
       "2  0.000304  2.823215e-06  0.000739 -0.000327 -0.000484  0.000385  0.000147  \n",
       "3 -0.022950 -2.903728e-02  0.008659  0.004858 -0.002010 -0.020509 -0.027004  \n",
       "4  0.006426  1.011754e-02  0.007087 -0.005874 -0.007453 -0.009313 -0.016810  \n",
       "\n",
       "[5 rows x 999 columns]"
      ]
     },
     "execution_count": 6,
     "metadata": {},
     "output_type": "execute_result"
    }
   ],
   "source": [
    "tdm_data_2 = tdm_data.drop(['Unnamed: 0', '0'], axis = 1)\n",
    "tdm_data_2.head()"
   ]
  },
  {
   "cell_type": "code",
   "execution_count": 7,
   "metadata": {
    "collapsed": true
   },
   "outputs": [],
   "source": [
    "tdm_reducer = PCA(n_components = 500)"
   ]
  },
  {
   "cell_type": "code",
   "execution_count": 8,
   "metadata": {
    "collapsed": false
   },
   "outputs": [],
   "source": [
    "tdm_data_3 = tdm_reducer.fit_transform(tdm_data_2)"
   ]
  },
  {
   "cell_type": "markdown",
   "metadata": {},
   "source": [
    "### 1B) cluster via kmeans"
   ]
  },
  {
   "cell_type": "code",
   "execution_count": 9,
   "metadata": {
    "collapsed": false
   },
   "outputs": [
    {
     "data": {
      "text/plain": [
       "KMeans(copy_x=True, init='k-means++', max_iter=100, n_clusters=10, n_init=1,\n",
       "    n_jobs=1, precompute_distances='auto', random_state=None, tol=0.0001,\n",
       "    verbose=0)"
      ]
     },
     "execution_count": 9,
     "metadata": {},
     "output_type": "execute_result"
    }
   ],
   "source": [
    "model = KMeans(n_clusters=10, init='k-means++', max_iter=100, n_init=1)\n",
    "model.fit(tdm_data_3)"
   ]
  },
  {
   "cell_type": "code",
   "execution_count": 10,
   "metadata": {
    "collapsed": false
   },
   "outputs": [],
   "source": [
    "categories = model.predict(tdm_data_3)"
   ]
  },
  {
   "cell_type": "markdown",
   "metadata": {},
   "source": [
    "### 1C) examine clusters"
   ]
  },
  {
   "cell_type": "code",
   "execution_count": 24,
   "metadata": {
    "collapsed": false
   },
   "outputs": [],
   "source": [
    "cluster_label = 5\n",
    "\n",
    "cluster = np.where(categories == cluster_label)"
   ]
  },
  {
   "cell_type": "code",
   "execution_count": 25,
   "metadata": {
    "collapsed": false
   },
   "outputs": [
    {
     "name": "stdout",
     "output_type": "stream",
     "text": [
      "58      Bug's Life Hard Case Cover For Samsung Galaxy ...\n",
      "81                                          Iphone 4 Case\n",
      "159     2D Hard Cover Case for HTC Wildfire S G13 U.S....\n",
      "197     For iPhone 5 5G 6th Combo Rugged Rubber Matte ...\n",
      "208     HARRY POTTER Salazar Slytherin school case for...\n",
      "267     Dual Color Skin Leather Case With Stand For LG...\n",
      "288     HEAD CASE RED LONDON TELEPHONE BOX KIOSK BOOTH...\n",
      "307     Wallet Flip Leather Case Cover For Apple iphon...\n",
      "317     4 PIECE S-LINE TPU GEL SKIN CASE COVERS FOR IP...\n",
      "383     ORANGE ROCKET HYBRID HARD PHONE CASE COVER W/ ...\n",
      "417     HEAD CASE DESIGNS BEST OF PLACES SERIES 3 HARD...\n",
      "468              Skinit Wolf Dragon Moon Skin for LG 500G\n",
      "503             For Samsung A197 Case Cover LF Lime Green\n",
      "516     For Samsung Galaxy Rush M830 Carbon Fiber Prot...\n",
      "616     HEAD CASE NINJAS PROTECTIVE SNAP-ON HARD BACK ...\n",
      "634     Blk/Blue HYBRID TPU Huawei Ascend M860 Facepla...\n",
      "700     Noble Clear Transparent Back Thin Hard Case Co...\n",
      "706     iPhone 5 Cleveland Browns team sport plastic s...\n",
      "754     flower wallet Leather card slot stand case iPh...\n",
      "819     PINK SIDE FLIP PU LEATHER CASE+MICRO CABLE CHA...\n",
      "825     Samsung Galaxy Ace 2 TPU Rubber Gel Case Cover...\n",
      "866     HEAD CASE PRINTED DENIM SNAP-ON BACK CASE FOR ...\n",
      "879     ZTE MAJESTY Z796C BLACK SKIN PINK HARD KICKSTA...\n",
      "888     Yellow / Black Hard Rubber Cup Y Shape Case Sk...\n",
      "946     FANTASY ART - FIREY HORSES APPLE IPHONE 5 5G H...\n",
      "964     Nokia Lumia 620 Protective Hybrid TPU Case Cov...\n",
      "987     IMAK Cross PU + PC Leather Wallet Cover Case S...\n",
      "997     Hybrid Mesh White Black Accessory Cover For Ve...\n",
      "1049    (1040) BLUE Waterproof Shockproof Case Cover F...\n",
      "1062    AT&T ALCATEL 871A NEW HARD RUBBER SKIN SNAP-ON...\n",
      "                              ...                        \n",
      "8626    NEW Color TPU Bumper Frame Rubber Case Cover w...\n",
      "8667    The King And Queens New Hard Back Case Cover f...\n",
      "8669    Gold color  IPHONE 4 4S 4G \"LUXURY DIAMOND BLI...\n",
      "8723    Black Rubber Hard Case+Clear LCD+USB Cable+Bla...\n",
      "8740    0.5mm Ultra Thin Back Cover Case For Apple iPh...\n",
      "8744    Gummy Hard Case Cover for Apple iPod Touch 4 G...\n",
      "8773    SMOKE HARD TPU REAR MATTE GEL SKIN CASE COVER ...\n",
      "8785    Skinit Spatter Skin for Samsung Vibrant Galaxy...\n",
      "8855    BLING RHINESTONE CRYSTAL HARD BACK CASE COVER ...\n",
      "8875    HEAD CASE FANDANGO MODERN BAROQUE DESIGN HARD ...\n",
      "8905    Black Jewel Diamante Bling Hard Cover Protecto...\n",
      "8916    Accessory for T-Mobile HTC Amaze 4G Pink Soft ...\n",
      "9018    Flower Design Leather Wallet Case With Stand F...\n",
      "9043                   Nintendo Game Boy iPhone 4/4s Case\n",
      "9071    Rocketfish HTC Inspire 4G Soft Gel Case - PURP...\n",
      "9090    Skinit Bright Plaid Skin for Samsung Fascinate...\n",
      "9182    Purple iPhone 4 4S Crystal Bling Rhinestone Ha...\n",
      "9256    CAMO GRASS Rubberized Hard Phone Cover Samsung...\n",
      "9274    Camo Tree Hard Snap on Rubberized Phone Case C...\n",
      "9442    Giving Tree Illustration Protective 2 Layer Bl...\n",
      "9464    HEAD CASE WOOD AND GEOMETRY PROTECTIVE BACK CA...\n",
      "9556    For Samsung Galaxy S III S3 3/i9300 3in1 Silic...\n",
      "9591    New Amazing Smooth Metal Skin Hard Cover Case ...\n",
      "9604    New Love Mei Rugged Waterproof Shockproof Prot...\n",
      "9623    HOT PINK LEOPARD HARD PLASTIC SNAP ON DIAMOND ...\n",
      "9666    1 PC Red PU Leather Hard Back Skin Case Cover ...\n",
      "9711    Color Design Case Cover Accessory+Aux+Charger ...\n",
      "9746    Sky Pink mustach Motorola Droid 3 XT862 Verizo...\n",
      "9813    Skin Decal Sticker for Nokia X2 X2-01 Cell Pho...\n",
      "9835    tattoo design beauty princess fairly sexy for ...\n",
      "Name: title, dtype: object\n"
     ]
    }
   ],
   "source": [
    "for c in cluster:\n",
    "    print reference['title'][c]"
   ]
  },
  {
   "cell_type": "markdown",
   "metadata": {},
   "source": [
    "# approach 2: cluster by neighbors vector"
   ]
  },
  {
   "cell_type": "code",
   "execution_count": 26,
   "metadata": {
    "collapsed": false
   },
   "outputs": [
    {
     "data": {
      "text/html": [
       "<div>\n",
       "<table border=\"1\" class=\"dataframe\">\n",
       "  <thead>\n",
       "    <tr style=\"text-align: right;\">\n",
       "      <th></th>\n",
       "      <th>nearest_neighbors</th>\n",
       "    </tr>\n",
       "  </thead>\n",
       "  <tbody>\n",
       "    <tr>\n",
       "      <th>0</th>\n",
       "      <td>0 2221 14118 15008 15577 18803 19926 29179 398...</td>\n",
       "    </tr>\n",
       "    <tr>\n",
       "      <th>1</th>\n",
       "      <td>1 9865 73633 48145 6777 13752 17987 4624 83515...</td>\n",
       "    </tr>\n",
       "    <tr>\n",
       "      <th>2</th>\n",
       "      <td>2 23056 44984 52322 88750 87882 85071 57264 39...</td>\n",
       "    </tr>\n",
       "    <tr>\n",
       "      <th>3</th>\n",
       "      <td>3 40921 43457 77458 47032 46350 47516 84636 14...</td>\n",
       "    </tr>\n",
       "    <tr>\n",
       "      <th>4</th>\n",
       "      <td>4 718 15027 54756 69955 70178 72202 72334 8027...</td>\n",
       "    </tr>\n",
       "  </tbody>\n",
       "</table>\n",
       "</div>"
      ],
      "text/plain": [
       "                                   nearest_neighbors\n",
       "0  0 2221 14118 15008 15577 18803 19926 29179 398...\n",
       "1  1 9865 73633 48145 6777 13752 17987 4624 83515...\n",
       "2  2 23056 44984 52322 88750 87882 85071 57264 39...\n",
       "3  3 40921 43457 77458 47032 46350 47516 84636 14...\n",
       "4  4 718 15027 54756 69955 70178 72202 72334 8027..."
      ]
     },
     "execution_count": 26,
     "metadata": {},
     "output_type": "execute_result"
    }
   ],
   "source": [
    "neighbor_data_1 = pd.read_csv('features/cases/cases_neighbors.csv')\n",
    "neighbor_data_2 = neighbor_data_1.drop(['Unnamed: 0'], axis = 1)\n",
    "neighbor_data_2.columns = ['nearest_neighbors']\n",
    "neighbor_data_2.head()"
   ]
  },
  {
   "cell_type": "code",
   "execution_count": 27,
   "metadata": {
    "collapsed": false
   },
   "outputs": [
    {
     "data": {
      "text/html": [
       "<div>\n",
       "<table border=\"1\" class=\"dataframe\">\n",
       "  <thead>\n",
       "    <tr style=\"text-align: right;\">\n",
       "      <th></th>\n",
       "      <th>nearest_neighbors</th>\n",
       "      <th>clean</th>\n",
       "    </tr>\n",
       "  </thead>\n",
       "  <tbody>\n",
       "    <tr>\n",
       "      <th>0</th>\n",
       "      <td>0 2221 14118 15008 15577 18803 19926 29179 398...</td>\n",
       "      <td>2221 14118 15008 15577 18803 19926 29179 3981...</td>\n",
       "    </tr>\n",
       "    <tr>\n",
       "      <th>1</th>\n",
       "      <td>1 9865 73633 48145 6777 13752 17987 4624 83515...</td>\n",
       "      <td>9865 73633 48145 6777 13752 17987 4624 83515 ...</td>\n",
       "    </tr>\n",
       "    <tr>\n",
       "      <th>2</th>\n",
       "      <td>2 23056 44984 52322 88750 87882 85071 57264 39...</td>\n",
       "      <td>23056 44984 52322 88750 87882 85071 57264 396...</td>\n",
       "    </tr>\n",
       "    <tr>\n",
       "      <th>3</th>\n",
       "      <td>3 40921 43457 77458 47032 46350 47516 84636 14...</td>\n",
       "      <td>40921 43457 77458 47032 46350 47516 84636 140...</td>\n",
       "    </tr>\n",
       "    <tr>\n",
       "      <th>4</th>\n",
       "      <td>4 718 15027 54756 69955 70178 72202 72334 8027...</td>\n",
       "      <td>718 15027 54756 69955 70178 72202 72334 80270...</td>\n",
       "    </tr>\n",
       "  </tbody>\n",
       "</table>\n",
       "</div>"
      ],
      "text/plain": [
       "                                   nearest_neighbors  \\\n",
       "0  0 2221 14118 15008 15577 18803 19926 29179 398...   \n",
       "1  1 9865 73633 48145 6777 13752 17987 4624 83515...   \n",
       "2  2 23056 44984 52322 88750 87882 85071 57264 39...   \n",
       "3  3 40921 43457 77458 47032 46350 47516 84636 14...   \n",
       "4  4 718 15027 54756 69955 70178 72202 72334 8027...   \n",
       "\n",
       "                                               clean  \n",
       "0   2221 14118 15008 15577 18803 19926 29179 3981...  \n",
       "1   9865 73633 48145 6777 13752 17987 4624 83515 ...  \n",
       "2   23056 44984 52322 88750 87882 85071 57264 396...  \n",
       "3   40921 43457 77458 47032 46350 47516 84636 140...  \n",
       "4   718 15027 54756 69955 70178 72202 72334 80270...  "
      ]
     },
     "execution_count": 27,
     "metadata": {},
     "output_type": "execute_result"
    }
   ],
   "source": [
    "# remove primary key...\n",
    "\n",
    "neighbor_data_2['clean'] = map(lambda x: x[1:], neighbor_data_2['nearest_neighbors'])\n",
    "neighbor_data_2.head()"
   ]
  },
  {
   "cell_type": "markdown",
   "metadata": {},
   "source": [
    "### 2B) create matrix of neighbors"
   ]
  },
  {
   "cell_type": "code",
   "execution_count": 28,
   "metadata": {
    "collapsed": true
   },
   "outputs": [],
   "source": [
    "neighbors_vec = CountVectorizer(max_features=1000)"
   ]
  },
  {
   "cell_type": "code",
   "execution_count": 29,
   "metadata": {
    "collapsed": false
   },
   "outputs": [
    {
     "data": {
      "text/plain": [
       "(99999, 1000)"
      ]
     },
     "execution_count": 29,
     "metadata": {},
     "output_type": "execute_result"
    }
   ],
   "source": [
    "neighbors_tdm_sparse = neighbors_vec.fit_transform(neighbor_data_2['clean'])\n",
    "neighbors_tdm_dense = neighbors_tdm_sparse.toarray()\n",
    "neighbors_tdm_dense_df = pd.DataFrame(neighbors_tdm_dense)\n",
    "neighbors_tdm_dense_df.shape"
   ]
  },
  {
   "cell_type": "code",
   "execution_count": 30,
   "metadata": {
    "collapsed": false
   },
   "outputs": [
    {
     "data": {
      "text/plain": [
       "KMeans(copy_x=True, init='k-means++', max_iter=100, n_clusters=10, n_init=1,\n",
       "    n_jobs=1, precompute_distances='auto', random_state=None, tol=0.0001,\n",
       "    verbose=0)"
      ]
     },
     "execution_count": 30,
     "metadata": {},
     "output_type": "execute_result"
    }
   ],
   "source": [
    "model = KMeans(n_clusters=10, init='k-means++', max_iter=100, n_init=1)\n",
    "model.fit(neighbors_tdm_dense_df)"
   ]
  },
  {
   "cell_type": "code",
   "execution_count": 31,
   "metadata": {
    "collapsed": false
   },
   "outputs": [],
   "source": [
    "categories = model.predict(neighbors_tdm_dense_df)"
   ]
  },
  {
   "cell_type": "code",
   "execution_count": 32,
   "metadata": {
    "collapsed": false
   },
   "outputs": [
    {
     "name": "stdout",
     "output_type": "stream",
     "text": [
      "335      pittsburgh penguins iPhone 4 4s 5 5s 5c case c...\n",
      "1110     Finn and jake adventure time iPhone 4 4s 5 5s ...\n",
      "2363     Lionel Messi Barcelona for iPhone 4 4s Case Co...\n",
      "2596     cute iphone5 iphone 5 hard case cover miss pin...\n",
      "2964     GIVENCHY VERY RARE BLACK PVC SHARKTOOTH FLORAL...\n",
      "4003            Iphone 4 & 4 S Case Cover The Walking Dead\n",
      "5548     Every Damn Just Do it NIKE Fresh Blue for iPho...\n",
      "6166                     Michael  Kors Iphone 5 Case Cover\n",
      "8863     harry potter hogwarts for iPhone 4 4s 5 5s 5c ...\n",
      "9155     my little pony for iPhone 4 or 4s Plastic blac...\n",
      "10919    Rhinestone hr.RLily TracFone/Net10 ZTE Merit 9...\n",
      "14167    kingdom hearts for iPhone 4 4s 5 5s 5c Black C...\n",
      "14999    avengers iron man mark vii for iPhone 4 4s 4G ...\n",
      "19046    IPHONE 5 CASE/ PEARLS/ RHINESTONE/ BLING/ FASH...\n",
      "19371      846-212red Nike Football iPhone 5 5s Case Cover\n",
      "21714    Plain Yellow and Black Mustache Design on iPho...\n",
      "23051    2x FC Barcelona iPhone 4 4s Case Cover David V...\n",
      "23192    Cheap skateboard stickerbomb BMX sticker bomb ...\n",
      "24633                 Seattle Seahawks iPhone 5 Case Cover\n",
      "24796    harry potter magic spell for iPhone 4 4s Case ...\n",
      "25167                    Pucca Cartoon iPhone 5 Case Cover\n",
      "26370            iPhone 5/5s Case Cover Peanuts Snoopy #04\n",
      "26842                 Peacock Feathers iPhone 5 Case Cover\n",
      "27565    cheap Elfen Lied anime movie manga studio ghib...\n",
      "28763    cheap Mindless Behavior Princeton world tour f...\n",
      "29262    Bruno Mars for IPhone 4 4s 5 5s 5c black case ...\n",
      "29606    Wood Fire Nike burn Logo for iPhone 5 5s 5c bl...\n",
      "29701                   iPhone Case/Cover For The iPhone 5\n",
      "29704    green bay packers clay matthews iPhone 4 4s 5 ...\n",
      "29793    vw minibus volkswagen for iPhone 4 4s 4G 5 5S ...\n",
      "                               ...                        \n",
      "70585    CR7 Ronaldo Real madrid football club for Ipho...\n",
      "71586    Ganesha Ganesh Luxmi Lakshmi Laxmi Yoga Medita...\n",
      "71776    cam newton carolina panther for IPhone 5 5s 5c...\n",
      "74644    cheap pabst blue ribbon beer can PBR logo rose...\n",
      "75414    sailor jerry tattoo for iPhone 4 4s 5 5s 5c ca...\n",
      "77676                          Iphone 5 Green Lantern Case\n",
      "77734    Cristiano Ronaldo CR7 Madrid for iPhone 5 5s C...\n",
      "78307    pittsburgh steelers iPhone 4 4s 5 5s 5c case c...\n",
      "78869    Mini Cooper for IPhone 5 5s black case cover 1...\n",
      "80855    NEW COACH Signature Ocelot Animal  Print IPHON...\n",
      "83067    iPhone 5 Case Cover Black Check Pattern Studde...\n",
      "83107                 Monogram Chevron iPhone 4 Case Cover\n",
      "83397    NWT MICHAEL KORS CITRUS PLASTIC MK LOGO IPHONE...\n",
      "85548    Amphibian Waterproof iPhone 5 Case Cover  up t...\n",
      "87411    NIB COACH WHITE PINK SIGNATURE IPHONE 5 CASE C...\n",
      "87912    New For APPLE iPhone 4/4S/4G Back Case Cover A...\n",
      "88511    Just Do it nike gold for IPhone 4 4s black cas...\n",
      "89692            iPhone 5c Case Cover Sanrio #08 My Melody\n",
      "90959    cheap justin timberlake mirrors 20 20 tie suit...\n",
      "91064      iphone 4/4s ultra slim Blue case cover by Swari\n",
      "93757    green bay packers aaron rodgers iPhone 4 4s 5 ...\n",
      "93850    Bravado Transmission iPhone 5 Case Cover Rolli...\n",
      "94101    Calvin And Hobbes for IPhone 4 4s 5 5s 5c blac...\n",
      "94978    Jamaica Jamaican Flag Rasta Marijuana Cannabis...\n",
      "95484    disney tangled rapunzel for iPhone 5 5s black ...\n",
      "96121        iPhone 5/5s Case Cover Sanrio #02 Hello Kitty\n",
      "96685    cheap GAME OF THRONES Fury Targaryen stark win...\n",
      "97197    one piece straw hat pirate crew nico robin for...\n",
      "98564    naruto vs sasuke for iPhone 4 4s 5c Black Case...\n",
      "99159    Monster motocross drink skateboard BMX games r...\n",
      "Name: title, dtype: object\n"
     ]
    }
   ],
   "source": [
    "cluster_label = 9\n",
    "\n",
    "cluster = np.where(categories == cluster_label)\n",
    "\n",
    "for c in cluster:\n",
    "    print reference['title'][c]"
   ]
  },
  {
   "cell_type": "code",
   "execution_count": null,
   "metadata": {
    "collapsed": true
   },
   "outputs": [],
   "source": []
  }
 ],
 "metadata": {
  "kernelspec": {
   "display_name": "Python 2",
   "language": "python",
   "name": "python2"
  },
  "language_info": {
   "codemirror_mode": {
    "name": "ipython",
    "version": 2
   },
   "file_extension": ".py",
   "mimetype": "text/x-python",
   "name": "python",
   "nbconvert_exporter": "python",
   "pygments_lexer": "ipython2",
   "version": "2.7.10"
  }
 },
 "nbformat": 4,
 "nbformat_minor": 0
}
